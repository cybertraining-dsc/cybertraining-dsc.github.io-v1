{
  "nbformat": 4,
  "nbformat_minor": 0,
  "metadata": {
    "colab": {
      "name": "lstm.ipynb",
      "provenance": []
    },
    "kernelspec": {
      "name": "python3",
      "display_name": "Python 3"
    },
    "language_info": {
      "name": "python"
    },
    "accelerator": "GPU"
  },
  "cells": [
    {
      "cell_type": "code",
      "metadata": {
        "colab": {
          "base_uri": "https://localhost:8080/"
        },
        "id": "LK5Ci7QH0o77",
        "outputId": "2d1f8e63-3506-42e9-ce9e-12c6b5f73855"
      },
      "source": [
        "from google.colab import drive\n",
        "import numpy as np\n",
        "import pandas as pd\n",
        "from sklearn.preprocessing import LabelBinarizer\n",
        "from keras.preprocessing import text, sequence\n",
        "from keras.preprocessing.text import Tokenizer\n",
        "from sklearn.model_selection import train_test_split\n",
        "from keras.models import Sequential\n",
        "from keras.layers import Dense,LSTM, Flatten\n",
        "from keras.layers.embeddings import Embedding\n",
        "from collections import Counter\n",
        "\n",
        "drive.mount('/content/drive')\n"
      ],
      "execution_count": 1,
      "outputs": [
        {
          "output_type": "stream",
          "text": [
            "Mounted at /content/drive\n"
          ],
          "name": "stdout"
        }
      ]
    },
    {
      "cell_type": "code",
      "metadata": {
        "id": "iHheXWgE0s-m"
      },
      "source": [
        "pdb_data_no_dups = pd.read_csv('/content/drive/MyDrive/599/pdb_data_no_dups.csv')\n",
        "pdb_data_seq = pd.read_csv('/content/drive/MyDrive/599/pdb_data_seq.csv')\n",
        "df = pdb_data_no_dups.merge(pdb_data_seq, how='inner', on='structureId')\n",
        "\n",
        "# Drop rows with missing labels\n",
        "df = df[[type(c) == type('') for c in df.classification.values]]\n",
        "df = df[[type(c) == type('') for c in df.sequence.values]]\n",
        "# select proteins\n",
        "df = df[df.macromoleculeType_x == 'Protein']\n",
        "#df.reset_index()\n",
        "\n",
        "# count numbers of instances per class\n",
        "cnt = Counter(df.classification)\n",
        "top_classes = 10\n",
        "# sort classes\n",
        "sorted_classes = cnt.most_common()[:top_classes]\n",
        "classes = [c[0] for c in sorted_classes]\n",
        "counts = [c[1] for c in sorted_classes]\n",
        "df = df[[c in classes for c in df.classification]]\n",
        "\n",
        "seqs = df.sequence.values\n",
        "# Transform labels to one-hot\n",
        "lb = LabelBinarizer()\n",
        "Y = lb.fit_transform(df.classification)\n",
        "\n",
        "max_length = 256\n",
        "\n",
        "#create and fit tokenizer\n",
        "tokenizer = Tokenizer(char_level=True)\n",
        "tokenizer.fit_on_texts(seqs)\n",
        "#represent input data as word rank number sequences\n",
        "X = tokenizer.texts_to_sequences(seqs)\n",
        "X = sequence.pad_sequences(X, maxlen=max_length)\n",
        "\n"
      ],
      "execution_count": 2,
      "outputs": []
    },
    {
      "cell_type": "code",
      "metadata": {
        "colab": {
          "base_uri": "https://localhost:8080/"
        },
        "id": "JVenzPYa052S",
        "outputId": "e91b1019-08b7-44f4-da85-d277f1a84a15"
      },
      "source": [
        "embedding_dim = 8\n",
        "\n",
        "#  model\n",
        "model = Sequential()\n",
        "model.add(Embedding(len(tokenizer.word_index)+1, embedding_dim, input_length=max_length))\n",
        "model.add(LSTM(128,return_sequences=True))\n",
        "model.add(LSTM(128))\n",
        "model.add(Dense(top_classes, activation='softmax'))\n",
        "model.compile(loss='categorical_crossentropy', optimizer='adam', metrics=['accuracy'])\n",
        "print(model.summary())\n"
      ],
      "execution_count": 3,
      "outputs": [
        {
          "output_type": "stream",
          "text": [
            "Model: \"sequential\"\n",
            "_________________________________________________________________\n",
            "Layer (type)                 Output Shape              Param #   \n",
            "=================================================================\n",
            "embedding (Embedding)        (None, 256, 8)            208       \n",
            "_________________________________________________________________\n",
            "lstm (LSTM)                  (None, 256, 128)          70144     \n",
            "_________________________________________________________________\n",
            "lstm_1 (LSTM)                (None, 128)               131584    \n",
            "_________________________________________________________________\n",
            "dense (Dense)                (None, 10)                1290      \n",
            "=================================================================\n",
            "Total params: 203,226\n",
            "Trainable params: 203,226\n",
            "Non-trainable params: 0\n",
            "_________________________________________________________________\n",
            "None\n"
          ],
          "name": "stdout"
        }
      ]
    },
    {
      "cell_type": "code",
      "metadata": {
        "colab": {
          "base_uri": "https://localhost:8080/"
        },
        "id": "tvvWJep-065Y",
        "outputId": "c705a19f-05e5-470c-de20-6a52c062f3c7"
      },
      "source": [
        "#  train\n",
        "X_train, X_test, y_train, y_test = train_test_split(X, Y, test_size=0.2)\n",
        "model.fit(X_train, y_train, validation_data=(X_test, y_test), epochs=50, batch_size=256)"
      ],
      "execution_count": null,
      "outputs": [
        {
          "output_type": "stream",
          "text": [
            "Epoch 1/50\n",
            "589/589 [==============================] - 67s 57ms/step - loss: 2.0277 - accuracy: 0.2456 - val_loss: 2.0575 - val_accuracy: 0.2467\n",
            "Epoch 2/50\n",
            "589/589 [==============================] - 34s 57ms/step - loss: 2.0552 - accuracy: 0.2489 - val_loss: 2.0529 - val_accuracy: 0.2492\n",
            "Epoch 3/50\n",
            "589/589 [==============================] - 34s 58ms/step - loss: 1.9723 - accuracy: 0.2649 - val_loss: 1.9258 - val_accuracy: 0.2831\n",
            "Epoch 4/50\n",
            "589/589 [==============================] - 34s 57ms/step - loss: 1.8258 - accuracy: 0.3140 - val_loss: 2.2482 - val_accuracy: 0.2362\n",
            "Epoch 5/50\n",
            "589/589 [==============================] - 34s 58ms/step - loss: 1.7910 - accuracy: 0.3248 - val_loss: 1.6373 - val_accuracy: 0.3644\n",
            "Epoch 6/50\n",
            "589/589 [==============================] - 34s 58ms/step - loss: 1.6032 - accuracy: 0.3870 - val_loss: 1.5429 - val_accuracy: 0.4176\n",
            "Epoch 7/50\n",
            "589/589 [==============================] - 34s 57ms/step - loss: 1.5931 - accuracy: 0.4034 - val_loss: 1.9238 - val_accuracy: 0.2841\n",
            "Epoch 8/50\n",
            "589/589 [==============================] - 34s 58ms/step - loss: 1.8942 - accuracy: 0.2909 - val_loss: 1.9881 - val_accuracy: 0.2589\n",
            "Epoch 9/50\n",
            "136/589 [=====>........................] - ETA: 23s - loss: 1.9452 - accuracy: 0.2734"
          ],
          "name": "stdout"
        }
      ]
    }
  ]
}