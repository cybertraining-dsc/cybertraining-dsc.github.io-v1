{
  "nbformat": 4,
  "nbformat_minor": 0,
  "metadata": {
    "colab": {
      "name": "pmadetzk_Assignment2.ipynb",
      "provenance": [],
      "collapsed_sections": [],
      "toc_visible": true
    },
    "kernelspec": {
      "name": "python3",
      "display_name": "Python 3"
    }
  },
  "cells": [
    {
      "cell_type": "markdown",
      "metadata": {
        "id": "KScAHZqbQ_Sr"
      },
      "source": [
        "# MNIST Classification "
      ]
    },
    {
      "cell_type": "markdown",
      "metadata": {
        "id": "eXNb7rQOQ2bW"
      },
      "source": [
        "\n",
        "In this lesson we discuss in how to create a simple IPython Notebook to solve\n",
        "an image classification problem. MNIST contains a set of pictures\n"
      ]
    },
    {
      "cell_type": "markdown",
      "metadata": {
        "id": "ZLpLVkFLRK-1"
      },
      "source": [
        "## Import Libraries \n",
        "\n",
        "Note: https://python-future.org/quickstart.html"
      ]
    },
    {
      "cell_type": "code",
      "metadata": {
        "id": "HqorYeyBkCyi"
      },
      "source": [
        "from __future__ import absolute_import\n",
        "from __future__ import division\n",
        "from __future__ import print_function\n",
        "\n",
        "import numpy as np\n",
        "from keras.models import Sequential\n",
        "from keras.layers import Dense, Activation, Dropout\n",
        "from keras.utils import to_categorical, plot_model\n",
        "from keras.datasets import mnist"
      ],
      "execution_count": null,
      "outputs": []
    },
    {
      "cell_type": "markdown",
      "metadata": {
        "id": "kmlJQqK42Cs2"
      },
      "source": [
        "## Warm Up Exercise"
      ]
    },
    {
      "cell_type": "markdown",
      "metadata": {
        "id": "YajEPjlyRkrr"
      },
      "source": [
        "## Pre-process data"
      ]
    },
    {
      "cell_type": "markdown",
      "metadata": {
        "id": "4yOjQ9cjRrwQ"
      },
      "source": [
        "### Load data \n",
        "\n",
        "First we load the data from the inbuilt mnist dataset from Keras\n",
        "Here we have to split the data set into training and testing data. \n",
        "The training data or testing data has two components. \n",
        "Training features and training labels. \n",
        "For instance every sample in the dataset has a corresponding label. \n",
        "In Mnist the training sample contains image data represented in terms of \n",
        "an array. The training labels are from 0-9. \n",
        "\n",
        "Here we say x_train for training data features and y_train as the training labels. Same goes for testing data. "
      ]
    },
    {
      "cell_type": "code",
      "metadata": {
        "id": "LN7h9FQ-kIzB"
      },
      "source": [
        "(x_train, y_train), (x_test, y_test) = mnist.load_data()"
      ],
      "execution_count": null,
      "outputs": []
    },
    {
      "cell_type": "markdown",
      "metadata": {
        "id": "AJJxAbKxR7kZ"
      },
      "source": [
        "### Identify Number of Classes\n",
        "\n",
        "As this is a number classification problem. We need to know how many classes are there. \n",
        "So we'll count the number of unique labels. "
      ]
    },
    {
      "cell_type": "code",
      "metadata": {
        "id": "laqnfrEBSFxZ",
        "colab": {
          "base_uri": "https://localhost:8080/"
        },
        "outputId": "c60d58f9-8676-4659-980e-9ea5f9bc5417"
      },
      "source": [
        "num_labels = len(np.unique(y_train))\n",
        "num_labels"
      ],
      "execution_count": null,
      "outputs": [
        {
          "output_type": "execute_result",
          "data": {
            "text/plain": [
              "10"
            ]
          },
          "metadata": {
            "tags": []
          },
          "execution_count": 264
        }
      ]
    },
    {
      "cell_type": "markdown",
      "metadata": {
        "id": "ugx6012YSXtA"
      },
      "source": [
        "### Convert Labels To One-Hot Vector\n",
        "\n",
        "Read more on one-hot vector. "
      ]
    },
    {
      "cell_type": "code",
      "metadata": {
        "id": "dpSBHnBEScZN"
      },
      "source": [
        "y_train = to_categorical(y_train)\n",
        "y_test = to_categorical(y_test)\n"
      ],
      "execution_count": null,
      "outputs": []
    },
    {
      "cell_type": "markdown",
      "metadata": {
        "id": "vyAfgPaJU753"
      },
      "source": [
        "## Image Reshaping\n",
        "\n",
        "The training model is designed by considering the data as a vector.\n",
        "This is a model dependent modification. Here we assume the image is\n",
        "a squared shape image."
      ]
    },
    {
      "cell_type": "code",
      "metadata": {
        "id": "8vxzUIK8Sedn"
      },
      "source": [
        "image_size = x_train.shape[1]\n",
        "input_size = image_size * image_size"
      ],
      "execution_count": null,
      "outputs": []
    },
    {
      "cell_type": "markdown",
      "metadata": {
        "id": "gZnBo49lVWDM"
      },
      "source": [
        "## Resize and Normalize\n",
        "\n",
        "The next step is to continue the reshaping to a fit into a vector\n",
        "and normalize the data. Image values are from 0 - 255, so an \n",
        "easy way to normalize is to divide by the maximum value. \n"
      ]
    },
    {
      "cell_type": "code",
      "metadata": {
        "id": "b9qUX7mwSf-u"
      },
      "source": [
        "x_train = np.reshape(x_train, [-1, input_size])\n",
        "x_train = x_train.astype('float32') / 255\n",
        "x_test = np.reshape(x_test, [-1, input_size])\n",
        "x_test = x_test.astype('float32') / 255"
      ],
      "execution_count": null,
      "outputs": []
    },
    {
      "cell_type": "markdown",
      "metadata": {
        "id": "tn89L_-zVxUB"
      },
      "source": [
        "## Create a Keras Model\n",
        "\n",
        "Keras is a neural network library. The summary function provides tabular summary on the model you created. And the plot_model function provides a grpah on the network you created. "
      ]
    },
    {
      "cell_type": "code",
      "metadata": {
        "id": "c3o_k-adkOy4",
        "colab": {
          "base_uri": "https://localhost:8080/",
          "height": 672
        },
        "outputId": "f1a11572-3380-41c0-cdc2-ad93674a2db1"
      },
      "source": [
        "# Create Model\n",
        "# network parameters\n",
        "batch_size = 128\n",
        "hidden_units = 64\n",
        "\n",
        "model = Sequential()\n",
        "model.add(Dense(hidden_units, input_dim=input_size))\n",
        "model.add(Dense(num_labels))\n",
        "model.add(Activation('softmax'))\n",
        "model.summary()\n",
        "plot_model(model, to_file='mlp-mnist.png', show_shapes=True)"
      ],
      "execution_count": null,
      "outputs": [
        {
          "output_type": "stream",
          "text": [
            "Model: \"sequential_29\"\n",
            "_________________________________________________________________\n",
            "Layer (type)                 Output Shape              Param #   \n",
            "=================================================================\n",
            "dense_58 (Dense)             (None, 64)                50240     \n",
            "_________________________________________________________________\n",
            "dense_59 (Dense)             (None, 10)                650       \n",
            "_________________________________________________________________\n",
            "activation_29 (Activation)   (None, 10)                0         \n",
            "=================================================================\n",
            "Total params: 50,890\n",
            "Trainable params: 50,890\n",
            "Non-trainable params: 0\n",
            "_________________________________________________________________\n"
          ],
          "name": "stdout"
        },
        {
          "output_type": "execute_result",
          "data": {
            "image/png": "[encoded data removed]",
            "text/plain": [
              "<IPython.core.display.Image object>"
            ]
          },
          "metadata": {
            "tags": []
          },
          "execution_count": 268
        }
      ]
    },
    {
      "cell_type": "markdown",
      "metadata": {
        "id": "nwl6dlU3aStZ"
      },
      "source": [
        "## Compile and Train\n",
        "\n",
        "A keras model need to be compiled before it can be used to train\n",
        "the model. In the compile function, you can provide the optimization\n",
        "that you want to add, metrics you expect and the type of loss function\n",
        "you need to use. \n",
        "\n",
        "Here we use adam optimizer, a famous optimizer used in neural networks. \n",
        "\n",
        "The loss funtion we have used is the categorical_crossentropy. \n",
        "\n",
        "Once the model is compiled, then the fit function is called upon passing the number of epochs, traing data and batch size. \n",
        "\n",
        "The batch size determines the number of elements used per minibatch in optimizing the function. \n",
        "\n",
        "**Note: Change the number of epochs, batch size and see what happens.**\n",
        "\n"
      ]
    },
    {
      "cell_type": "code",
      "metadata": {
        "id": "WkUMyJyEmsM6",
        "colab": {
          "base_uri": "https://localhost:8080/"
        },
        "outputId": "7140f5f7-e20b-4738-8a50-5d3a66bea9cf"
      },
      "source": [
        "model.compile(loss='categorical_crossentropy',\n",
        "              optimizer='adam',\n",
        "              metrics=['accuracy'])\n",
        "\n",
        "model.fit(x_train, y_train, epochs=20, batch_size=batch_size)"
      ],
      "execution_count": null,
      "outputs": [
        {
          "output_type": "stream",
          "text": [
            "Epoch 1/20\n",
            "469/469 [==============================] - 1s 2ms/step - loss: 0.6699 - accuracy: 0.8106\n",
            "Epoch 2/20\n",
            "469/469 [==============================] - 1s 2ms/step - loss: 0.2958 - accuracy: 0.9173\n",
            "Epoch 3/20\n",
            "469/469 [==============================] - 1s 3ms/step - loss: 0.2767 - accuracy: 0.9233\n",
            "Epoch 4/20\n",
            "469/469 [==============================] - 1s 2ms/step - loss: 0.2660 - accuracy: 0.9263\n",
            "Epoch 5/20\n",
            "469/469 [==============================] - 1s 2ms/step - loss: 0.2684 - accuracy: 0.9252\n",
            "Epoch 6/20\n",
            "469/469 [==============================] - 1s 2ms/step - loss: 0.2590 - accuracy: 0.9283\n",
            "Epoch 7/20\n",
            "469/469 [==============================] - 1s 2ms/step - loss: 0.2545 - accuracy: 0.9280\n",
            "Epoch 8/20\n",
            "469/469 [==============================] - 1s 2ms/step - loss: 0.2610 - accuracy: 0.9275\n",
            "Epoch 9/20\n",
            "469/469 [==============================] - 1s 2ms/step - loss: 0.2440 - accuracy: 0.9318\n",
            "Epoch 10/20\n",
            "469/469 [==============================] - 1s 2ms/step - loss: 0.2513 - accuracy: 0.9314\n",
            "Epoch 11/20\n",
            "469/469 [==============================] - 1s 2ms/step - loss: 0.2431 - accuracy: 0.9314\n",
            "Epoch 12/20\n",
            "469/469 [==============================] - 1s 2ms/step - loss: 0.2490 - accuracy: 0.9306\n",
            "Epoch 13/20\n",
            "469/469 [==============================] - 1s 2ms/step - loss: 0.2535 - accuracy: 0.9306\n",
            "Epoch 14/20\n",
            "469/469 [==============================] - 1s 2ms/step - loss: 0.2445 - accuracy: 0.9313\n",
            "Epoch 15/20\n",
            "469/469 [==============================] - 1s 2ms/step - loss: 0.2468 - accuracy: 0.9315\n",
            "Epoch 16/20\n",
            "469/469 [==============================] - 1s 2ms/step - loss: 0.2417 - accuracy: 0.9316\n",
            "Epoch 17/20\n",
            "469/469 [==============================] - 1s 2ms/step - loss: 0.2382 - accuracy: 0.9334\n",
            "Epoch 18/20\n",
            "469/469 [==============================] - 1s 2ms/step - loss: 0.2338 - accuracy: 0.9349\n",
            "Epoch 19/20\n",
            "469/469 [==============================] - 1s 2ms/step - loss: 0.2363 - accuracy: 0.9345\n",
            "Epoch 20/20\n",
            "469/469 [==============================] - 1s 2ms/step - loss: 0.2435 - accuracy: 0.9338\n"
          ],
          "name": "stdout"
        },
        {
          "output_type": "execute_result",
          "data": {
            "text/plain": [
              "<tensorflow.python.keras.callbacks.History at 0x7fcd1c9a44a8>"
            ]
          },
          "metadata": {
            "tags": []
          },
          "execution_count": 269
        }
      ]
    },
    {
      "cell_type": "markdown",
      "metadata": {
        "id": "fDAY7JYmbmOq"
      },
      "source": [
        "## Testing \n",
        "\n",
        "Now we can test the trained model. Use the evaluate function by passing\n",
        "test data and batch size and the accuracy and the loss value can be retrieved.\n",
        "\n",
        "**MNIST_V1.0|Exercise: Try to observe the network behavior by changing the number of epochs, batch size and record the best accuracy that you can gain. Here you can record what happens when you change these values. Describe your observations in 50-100 words.**\n"
      ]
    },
    {
      "cell_type": "code",
      "metadata": {
        "id": "0sfTk_pcjXHD",
        "colab": {
          "base_uri": "https://localhost:8080/"
        },
        "outputId": "8a6e17b7-95dd-4487-ada1-38cde5f55a00"
      },
      "source": [
        "loss, acc = model.evaluate(x_test, y_test, batch_size=batch_size)\n",
        "print(\"\\nTest accuracy: %.1f%%\" % (100.0 * acc))"
      ],
      "execution_count": null,
      "outputs": [
        {
          "output_type": "stream",
          "text": [
            "79/79 [==============================] - 0s 2ms/step - loss: 0.2756 - accuracy: 0.9235\n",
            "\n",
            "Test accuracy: 92.4%\n"
          ],
          "name": "stdout"
        }
      ]
    },
    {
      "cell_type": "markdown",
      "metadata": {
        "id": "b2fDpqnfcEmC"
      },
      "source": [
        "## Final Note\n",
        "\n",
        "This programme can be defined as a hello world programme in deep\n",
        "learning. Objective of this exercise is not to teach you the depths of\n",
        "deep learning. But to teach you basic concepts that may need to design a\n",
        "simple network to solve a problem. Before running the whole code, read\n",
        "all the instructions before a code section. \n",
        "\n",
        "## Homework\n",
        "\n",
        "**Solve Exercise MNIST_V1.0.**"
      ]
    },
    {
      "cell_type": "markdown",
      "metadata": {
        "id": "UufRkOsSRaUR"
      },
      "source": [
        "\n",
        "### Reference: \n",
        "\n",
        "[Orignal Source to Source Code](https://github.com/PacktPublishing/Advanced-Deep-Learning-with-Keras)\n"
      ]
    }
  ]
}