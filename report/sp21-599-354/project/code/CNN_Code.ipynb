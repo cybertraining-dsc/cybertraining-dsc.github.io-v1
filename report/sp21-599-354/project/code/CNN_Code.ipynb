{
  "nbformat": 4,
  "nbformat_minor": 0,
  "metadata": {
    "colab": {
      "name": "CNN_Code.ipynb",
      "provenance": [],
      "collapsed_sections": [],
      "machine_shape": "hm",
      "mount_file_id": "1674uV5yJBEsu4i-ZqMeslG9ZQmXMj_f-",
      "authorship_tag": "ABX9TyPk0BhZ2AMQaZdrK6ntfM4k",
      "include_colab_link": true
    },
    "kernelspec": {
      "name": "python3",
      "display_name": "Python 3"
    },
    "language_info": {
      "name": "python"
    },
    "accelerator": "GPU"
  },
  "cells": [
    {
      "cell_type": "markdown",
      "metadata": {
        "id": "view-in-github",
        "colab_type": "text"
      },
      "source": [
        "<a href=\"https://colab.research.google.com/github/cybertraining-dsc/sp21-599-354/blob/main/project/code/CNN_Code.ipynb\" target=\"_parent\"><img src=\"https://colab.research.google.com/assets/colab-badge.svg\" alt=\"Open In Colab\"/></a>"
      ]
    },
    {
      "cell_type": "code",
      "metadata": {
        "id": "7SPeiwo8dTUZ",
        "colab": {
          "base_uri": "https://localhost:8080/"
        },
        "outputId": "dce96ae3-2a5e-4553-85f6-ad74814c3534"
      },
      "source": [
        "!pip install cloudmesh-common\n",
        "\n",
        "# importing the libraries\n",
        "import pandas as pd\n",
        "import numpy as np\n",
        "\n",
        "# for reading and displaying images\n",
        "from skimage.io import imread\n",
        "import matplotlib.pyplot as plt\n",
        "%matplotlib inline\n",
        "\n",
        "# for creating validation set\n",
        "from sklearn.model_selection import train_test_split\n",
        "\n",
        "# for evaluating the model\n",
        "from sklearn.metrics import accuracy_score\n",
        "from tqdm import tqdm\n",
        "\n",
        "# PyTorch libraries and modules\n",
        "import torch\n",
        "from torch.autograd import Variable\n",
        "from torch.nn import Linear, ReLU, CrossEntropyLoss, Sequential, Conv2d, MaxPool2d, Module, Softmax, BatchNorm2d, Dropout\n",
        "from torch.optim import Adam, SGD\n",
        "\n",
        "from cloudmesh.common.StopWatch import StopWatch\n"
      ],
      "execution_count": 64,
      "outputs": [
        {
          "output_type": "stream",
          "text": [
            "Requirement already satisfied: cloudmesh-common in /usr/local/lib/python3.7/dist-packages (4.3.66)\n",
            "Requirement already satisfied: pyfiglet in /usr/local/lib/python3.7/dist-packages (from cloudmesh-common) (0.8.post1)\n",
            "Requirement already satisfied: pytz in /usr/local/lib/python3.7/dist-packages (from cloudmesh-common) (2018.9)\n",
            "Requirement already satisfied: oyaml in /usr/local/lib/python3.7/dist-packages (from cloudmesh-common) (1.0)\n",
            "Requirement already satisfied: pathlib in /usr/local/lib/python3.7/dist-packages (from cloudmesh-common) (1.0.1)\n",
            "Requirement already satisfied: python-hostlist in /usr/local/lib/python3.7/dist-packages (from cloudmesh-common) (1.21)\n",
            "Requirement already satisfied: requests in /usr/local/lib/python3.7/dist-packages (from cloudmesh-common) (2.23.0)\n",
            "Requirement already satisfied: tqdm in /usr/local/lib/python3.7/dist-packages (from cloudmesh-common) (4.41.1)\n",
            "Requirement already satisfied: colorama in /usr/local/lib/python3.7/dist-packages (from cloudmesh-common) (0.4.4)\n",
            "Requirement already satisfied: python-dateutil in /usr/local/lib/python3.7/dist-packages (from cloudmesh-common) (2.8.1)\n",
            "Requirement already satisfied: psutil in /usr/local/lib/python3.7/dist-packages (from cloudmesh-common) (5.4.8)\n",
            "Requirement already satisfied: humanize in /usr/local/lib/python3.7/dist-packages (from cloudmesh-common) (0.5.1)\n",
            "Requirement already satisfied: simplejson in /usr/local/lib/python3.7/dist-packages (from cloudmesh-common) (3.17.2)\n",
            "Requirement already satisfied: tabulate in /usr/local/lib/python3.7/dist-packages (from cloudmesh-common) (0.8.9)\n",
            "Requirement already satisfied: pyyaml in /usr/local/lib/python3.7/dist-packages (from oyaml->cloudmesh-common) (3.13)\n",
            "Requirement already satisfied: chardet<4,>=3.0.2 in /usr/local/lib/python3.7/dist-packages (from requests->cloudmesh-common) (3.0.4)\n",
            "Requirement already satisfied: idna<3,>=2.5 in /usr/local/lib/python3.7/dist-packages (from requests->cloudmesh-common) (2.10)\n",
            "Requirement already satisfied: urllib3!=1.25.0,!=1.25.1,<1.26,>=1.21.1 in /usr/local/lib/python3.7/dist-packages (from requests->cloudmesh-common) (1.24.3)\n",
            "Requirement already satisfied: certifi>=2017.4.17 in /usr/local/lib/python3.7/dist-packages (from requests->cloudmesh-common) (2020.12.5)\n",
            "Requirement already satisfied: six>=1.5 in /usr/local/lib/python3.7/dist-packages (from python-dateutil->cloudmesh-common) (1.15.0)\n"
          ],
          "name": "stdout"
        }
      ]
    },
    {
      "cell_type": "code",
      "metadata": {
        "id": "qrL55qgdd8gi",
        "colab": {
          "base_uri": "https://localhost:8080/",
          "height": 206
        },
        "outputId": "2f1ec560-5ec4-4257-97aa-0d2dfc9b366d"
      },
      "source": [
        "\n",
        "# loading dataset\n",
        "train = pd.read_csv('/content/drive/MyDrive/plant_data/train_str.csv')\n",
        "#train = pd.read_csv('/content/drive/MyDrive/plant_data/train_rot.csv')\n",
        "test = pd.read_csv('/content/drive/MyDrive/plant_data/test.csv')\n",
        "predict = pd.read_csv('/content/drive/MyDrive/plant_data/test.csv')\n",
        "\n",
        "\n",
        "train.head()"
      ],
      "execution_count": 65,
      "outputs": [
        {
          "output_type": "execute_result",
          "data": {
            "text/html": [
              "<div>\n",
              "<style scoped>\n",
              "    .dataframe tbody tr th:only-of-type {\n",
              "        vertical-align: middle;\n",
              "    }\n",
              "\n",
              "    .dataframe tbody tr th {\n",
              "        vertical-align: top;\n",
              "    }\n",
              "\n",
              "    .dataframe thead th {\n",
              "        text-align: right;\n",
              "    }\n",
              "</style>\n",
              "<table border=\"1\" class=\"dataframe\">\n",
              "  <thead>\n",
              "    <tr style=\"text-align: right;\">\n",
              "      <th></th>\n",
              "      <th>id</th>\n",
              "      <th>label</th>\n",
              "    </tr>\n",
              "  </thead>\n",
              "  <tbody>\n",
              "    <tr>\n",
              "      <th>0</th>\n",
              "      <td>203</td>\n",
              "      <td>1</td>\n",
              "    </tr>\n",
              "    <tr>\n",
              "      <th>1</th>\n",
              "      <td>97</td>\n",
              "      <td>0</td>\n",
              "    </tr>\n",
              "    <tr>\n",
              "      <th>2</th>\n",
              "      <td>375</td>\n",
              "      <td>2</td>\n",
              "    </tr>\n",
              "    <tr>\n",
              "      <th>3</th>\n",
              "      <td>93</td>\n",
              "      <td>0</td>\n",
              "    </tr>\n",
              "    <tr>\n",
              "      <th>4</th>\n",
              "      <td>22</td>\n",
              "      <td>0</td>\n",
              "    </tr>\n",
              "  </tbody>\n",
              "</table>\n",
              "</div>"
            ],
            "text/plain": [
              "    id  label\n",
              "0  203      1\n",
              "1   97      0\n",
              "2  375      2\n",
              "3   93      0\n",
              "4   22      0"
            ]
          },
          "metadata": {
            "tags": []
          },
          "execution_count": 65
        }
      ]
    },
    {
      "cell_type": "code",
      "metadata": {
        "id": "mrZPj6rLen0y",
        "colab": {
          "base_uri": "https://localhost:8080/"
        },
        "outputId": "b875bfa0-1ebf-4e91-b883-f4db6b93d3a2"
      },
      "source": [
        "# loading training images\n",
        "train_img = []\n",
        "\n",
        "for img_name in tqdm(train['id']):\n",
        "    # defining the image path\n",
        "    image_path = f'/content/drive/MyDrive/plant_data/train_str/{img_name}.png'\n",
        "    # reading the image\n",
        "    img = imread(image_path, as_gray=True)\n",
        "    # normalizing the pixel values\n",
        "    img /= 255.0\n",
        "    # converting the type of pixel to float 32\n",
        "    img = img.astype('float32')\n",
        "    # appending the image into the list\n",
        "    train_img.append(img)\n",
        "\n",
        "# converting the list to numpy array\n",
        "train_x = np.array(train_img)\n",
        "# defining the target\n",
        "train_y = train['label'].values\n",
        "train_x.shape"
      ],
      "execution_count": 66,
      "outputs": [
        {
          "output_type": "stream",
          "text": [
            "100%|██████████| 420/420 [00:02<00:00, 187.16it/s]\n"
          ],
          "name": "stderr"
        },
        {
          "output_type": "execute_result",
          "data": {
            "text/plain": [
              "(420, 400, 400)"
            ]
          },
          "metadata": {
            "tags": []
          },
          "execution_count": 66
        }
      ]
    },
    {
      "cell_type": "code",
      "metadata": {
        "id": "zQvmB198eyhC",
        "colab": {
          "base_uri": "https://localhost:8080/",
          "height": 630
        },
        "outputId": "f0ae6c6c-f848-42ae-853a-2d302142c1d7"
      },
      "source": [
        "# visualizing images\n",
        "i = 0\n",
        "plt.figure(figsize=(10,10))\n",
        "plt.subplot(221), plt.imshow(train_x[i], cmap='gray')\n",
        "plt.subplot(222), plt.imshow(train_x[i+25], cmap='gray')\n",
        "plt.subplot(223), plt.imshow(train_x[i+50], cmap='gray')\n",
        "plt.subplot(224), plt.imshow(train_x[i+75], cmap='gray')"
      ],
      "execution_count": 67,
      "outputs": [
        {
          "output_type": "execute_result",
          "data": {
            "text/plain": [
              "(<matplotlib.axes._subplots.AxesSubplot at 0x7fbac4421d50>,\n",
              " <matplotlib.image.AxesImage at 0x7fbac43a4250>)"
            ]
          },
          "metadata": {
            "tags": []
          },
          "execution_count": 67
        },
        {
          "output_type": "display_data",
          "data": {
            "image/png": "[encoded data removed]",
            "text/plain": [
              "<Figure size 720x720 with 4 Axes>"
            ]
          },
          "metadata": {
            "tags": [],
            "needs_background": "light"
          }
        }
      ]
    },
    {
      "cell_type": "code",
      "metadata": {
        "id": "dKi3ZQfie120",
        "colab": {
          "base_uri": "https://localhost:8080/"
        },
        "outputId": "cad6b1cd-29c1-4d6f-d6f4-3ca2f29cf5b0"
      },
      "source": [
        "# create validation set\n",
        "#train_x, val_x, train_y, val_y = train_test_split(train_x, train_y, test_size = 0.1)\n",
        "(train_x.shape, train_y.shape)#, (val_x.shape, val_y.shape)"
      ],
      "execution_count": 68,
      "outputs": [
        {
          "output_type": "execute_result",
          "data": {
            "text/plain": [
              "((420, 400, 400), (420,))"
            ]
          },
          "metadata": {
            "tags": []
          },
          "execution_count": 68
        }
      ]
    },
    {
      "cell_type": "code",
      "metadata": {
        "id": "B6Zm-2mNe5Jb",
        "colab": {
          "base_uri": "https://localhost:8080/"
        },
        "outputId": "531c3573-561a-4511-b499-c601bd1b6452"
      },
      "source": [
        "# converting training images into torch format\n",
        "train_x = train_x.reshape(420, 1, 400, 400)\n",
        "#train_x = train_x.reshape(1512, 1, 400, 400)\n",
        "\n",
        "train_x  = torch.from_numpy(train_x)\n",
        "\n",
        "# converting the target into torch format\n",
        "train_y = train_y.astype(int);\n",
        "train_y = torch.from_numpy(train_y)\n",
        "\n",
        "# shape of training data\n",
        "train_x.shape, train_y.shape"
      ],
      "execution_count": 69,
      "outputs": [
        {
          "output_type": "execute_result",
          "data": {
            "text/plain": [
              "(torch.Size([420, 1, 400, 400]), torch.Size([420]))"
            ]
          },
          "metadata": {
            "tags": []
          },
          "execution_count": 69
        }
      ]
    },
    {
      "cell_type": "code",
      "metadata": {
        "id": "tmiQBcHMe9-t"
      },
      "source": [
        "# converting validation images into torch format\n",
        "#val_x = val_x.reshape(42, 1, 400, 400)\n",
        "#val_x = val_x.reshape(168, 1, 400, 400)\n",
        "#val_x  = torch.from_numpy(val_x)\n",
        "\n",
        "# converting the target into torch format\n",
        "#val_y = val_y.astype(int);\n",
        "#val_y = torch.from_numpy(val_y)\n",
        "\n",
        "# shape of validation data\n",
        "#val_x.shape, val_y.shape"
      ],
      "execution_count": 70,
      "outputs": []
    },
    {
      "cell_type": "code",
      "metadata": {
        "id": "izhFFGQifBgU"
      },
      "source": [
        "class Net(Module):   \n",
        "    def __init__(self):\n",
        "        super(Net, self).__init__()\n",
        "\n",
        "        self.cnn_layers = Sequential(\n",
        "            # Defining a 2D convolution layer\n",
        "            Conv2d(1, 4, kernel_size=3, stride=1, padding=1),\n",
        "            BatchNorm2d(4),\n",
        "            ReLU(inplace=True),\n",
        "            MaxPool2d(kernel_size=2, stride=2),\n",
        "            # Defining another 2D convolution layer\n",
        "            Conv2d(4, 4, kernel_size=3, stride=1, padding=1),\n",
        "            BatchNorm2d(4),\n",
        "            ReLU(inplace=True),\n",
        "            MaxPool2d(kernel_size=2, stride=2),\n",
        "        )\n",
        "\n",
        "        self.linear_layers = Sequential(\n",
        "            Linear(40000, 10)\n",
        "        )\n",
        "\n",
        "    # Defining the forward pass    \n",
        "    def forward(self, x):\n",
        "        x = self.cnn_layers(x)\n",
        "        x = x.view(x.size(0), -1)\n",
        "        x = self.linear_layers(x)\n",
        "        return x"
      ],
      "execution_count": 71,
      "outputs": []
    },
    {
      "cell_type": "code",
      "metadata": {
        "id": "FxI2Jv1YfGQU",
        "colab": {
          "base_uri": "https://localhost:8080/"
        },
        "outputId": "dc4c507f-fa49-4e8f-e30b-5d1058dec5d5"
      },
      "source": [
        "# defining the model\n",
        "model = Net()\n",
        "# defining the optimizer\n",
        "optimizer = Adam(model.parameters(), lr=0.07)\n",
        "# defining the loss function\n",
        "criterion = CrossEntropyLoss()\n",
        "# checking if GPU is available\n",
        "if torch.cuda.is_available():\n",
        "    model = model.cuda()\n",
        "    criterion = criterion.cuda()\n",
        "    \n",
        "print(model)"
      ],
      "execution_count": 72,
      "outputs": [
        {
          "output_type": "stream",
          "text": [
            "Net(\n",
            "  (cnn_layers): Sequential(\n",
            "    (0): Conv2d(1, 4, kernel_size=(3, 3), stride=(1, 1), padding=(1, 1))\n",
            "    (1): BatchNorm2d(4, eps=1e-05, momentum=0.1, affine=True, track_running_stats=True)\n",
            "    (2): ReLU(inplace=True)\n",
            "    (3): MaxPool2d(kernel_size=2, stride=2, padding=0, dilation=1, ceil_mode=False)\n",
            "    (4): Conv2d(4, 4, kernel_size=(3, 3), stride=(1, 1), padding=(1, 1))\n",
            "    (5): BatchNorm2d(4, eps=1e-05, momentum=0.1, affine=True, track_running_stats=True)\n",
            "    (6): ReLU(inplace=True)\n",
            "    (7): MaxPool2d(kernel_size=2, stride=2, padding=0, dilation=1, ceil_mode=False)\n",
            "  )\n",
            "  (linear_layers): Sequential(\n",
            "    (0): Linear(in_features=40000, out_features=10, bias=True)\n",
            "  )\n",
            ")\n"
          ],
          "name": "stdout"
        }
      ]
    },
    {
      "cell_type": "code",
      "metadata": {
        "id": "jMgR7i9VfKnm"
      },
      "source": [
        "def train(epoch):\n",
        "    model.train()\n",
        "    tr_loss = 0\n",
        "    # getting the training set\n",
        "    x_train, y_train = Variable(train_x), Variable(train_y)\n",
        "    # getting the validation set\n",
        "    #x_val, y_val = Variable(val_x), Variable(val_y)\n",
        "    # converting the data into GPU format\n",
        "    if torch.cuda.is_available():\n",
        "        x_train = x_train.cuda()\n",
        "        y_train = y_train.cuda()\n",
        "        #x_val = x_val.cuda()\n",
        "        #y_val = y_val.cuda()\n",
        "\n",
        "    # clearing the Gradients of the model parameters\n",
        "    optimizer.zero_grad()\n",
        "    \n",
        "    # prediction for training and validation set\n",
        "    output_train = model(x_train)\n",
        "    #output_val = model(x_val)\n",
        "\n",
        "    # computing the training and validation loss\n",
        "    loss_train = criterion(output_train, y_train)\n",
        "    #loss_val = criterion(output_val, y_val)\n",
        "    train_losses.append(loss_train)\n",
        "    #val_losses.append(loss_val)\n",
        "\n",
        "    # computing the updated weights of all the model parameters\n",
        "    loss_train.backward()\n",
        "    optimizer.step()\n",
        "    tr_loss = loss_train.item()\n",
        "    if epoch%2 == 0:\n",
        "        # printing the validation loss\n",
        "        print('Epoch : ',epoch+1, '\\t', 'loss :', loss_train)#loss_val)"
      ],
      "execution_count": 73,
      "outputs": []
    },
    {
      "cell_type": "code",
      "metadata": {
        "id": "pkl6jjg2fQRY",
        "colab": {
          "base_uri": "https://localhost:8080/"
        },
        "outputId": "91b524e3-71b2-4e27-d717-0f5b45530cdc"
      },
      "source": [
        "StopWatch.start(\"Train\")\n",
        "# defining the number of epochs\n",
        "n_epochs = 25\n",
        "# empty list to store training losses\n",
        "train_losses = []\n",
        "# empty list to store validation losses\n",
        "#val_losses = []\n",
        "# training the model\n",
        "for epoch in range(n_epochs):\n",
        "    train(epoch)\n",
        "\n",
        "StopWatch.stop(\"Train\")"
      ],
      "execution_count": 74,
      "outputs": [
        {
          "output_type": "stream",
          "text": [
            "Epoch :  1 \t loss : tensor(2.2446, device='cuda:0', grad_fn=<NllLossBackward>)\n",
            "Epoch :  3 \t loss : tensor(169.5256, device='cuda:0', grad_fn=<NllLossBackward>)\n",
            "Epoch :  5 \t loss : tensor(67.6469, device='cuda:0', grad_fn=<NllLossBackward>)\n",
            "Epoch :  7 \t loss : tensor(39.6854, device='cuda:0', grad_fn=<NllLossBackward>)\n",
            "Epoch :  9 \t loss : tensor(30.1997, device='cuda:0', grad_fn=<NllLossBackward>)\n",
            "Epoch :  11 \t loss : tensor(18.3061, device='cuda:0', grad_fn=<NllLossBackward>)\n",
            "Epoch :  13 \t loss : tensor(5.4335, device='cuda:0', grad_fn=<NllLossBackward>)\n",
            "Epoch :  15 \t loss : tensor(4.4037, device='cuda:0', grad_fn=<NllLossBackward>)\n",
            "Epoch :  17 \t loss : tensor(5.6725, device='cuda:0', grad_fn=<NllLossBackward>)\n",
            "Epoch :  19 \t loss : tensor(2.1557, device='cuda:0', grad_fn=<NllLossBackward>)\n",
            "Epoch :  21 \t loss : tensor(1.8287, device='cuda:0', grad_fn=<NllLossBackward>)\n",
            "Epoch :  23 \t loss : tensor(0.9077, device='cuda:0', grad_fn=<NllLossBackward>)\n",
            "Epoch :  25 \t loss : tensor(0.3653, device='cuda:0', grad_fn=<NllLossBackward>)\n"
          ],
          "name": "stdout"
        }
      ]
    },
    {
      "cell_type": "code",
      "metadata": {
        "id": "N-DKaziMfTtu",
        "colab": {
          "base_uri": "https://localhost:8080/",
          "height": 266
        },
        "outputId": "9b0af15a-9f4b-401f-a781-c7271561ce43"
      },
      "source": [
        "# plotting the training and validation loss\n",
        "plt.plot(train_losses, label='Training loss')\n",
        "#plt.plot(val_losses, label='Validation loss')\n",
        "plt.legend()\n",
        "plt.show()"
      ],
      "execution_count": 75,
      "outputs": [
        {
          "output_type": "display_data",
          "data": {
            "image/png": "[encoded data removed]",
            "text/plain": [
              "<Figure size 432x288 with 1 Axes>"
            ]
          },
          "metadata": {
            "tags": [],
            "needs_background": "light"
          }
        }
      ]
    },
    {
      "cell_type": "code",
      "metadata": {
        "id": "-f6t4UKffWrF",
        "colab": {
          "base_uri": "https://localhost:8080/"
        },
        "outputId": "a2042694-9f04-483e-eaf6-f4877e3ba349"
      },
      "source": [
        "# prediction for training set\n",
        "with torch.no_grad():\n",
        "    output = model(train_x.cuda())\n",
        "    \n",
        "softmax = torch.exp(output).cpu()\n",
        "prob = list(softmax.numpy())\n",
        "predictions = np.argmax(prob, axis=1)\n",
        "\n",
        "# accuracy on training set\n",
        "accuracy_score(train_y, predictions)"
      ],
      "execution_count": 76,
      "outputs": [
        {
          "output_type": "execute_result",
          "data": {
            "text/plain": [
              "0.7904761904761904"
            ]
          },
          "metadata": {
            "tags": []
          },
          "execution_count": 76
        }
      ]
    },
    {
      "cell_type": "code",
      "metadata": {
        "id": "jqnw102-faJA"
      },
      "source": [
        "\n",
        "# prediction for validation set\n",
        "#with torch.no_grad():\n",
        "#    output = model(val_x.cuda())\n",
        "\n",
        "#softmax = torch.exp(output).cpu()\n",
        "#prob = list(softmax.numpy())\n",
        "#predictions = np.argmax(prob, axis=1)\n",
        "\n",
        "# accuracy on validation set\n",
        "#accuracy_score(val_y, predictions)"
      ],
      "execution_count": 77,
      "outputs": []
    },
    {
      "cell_type": "code",
      "metadata": {
        "id": "sN2CFORCfeMz",
        "colab": {
          "base_uri": "https://localhost:8080/"
        },
        "outputId": "4ea3d3df-2600-4ed1-9491-a94fada53284"
      },
      "source": [
        "# loading test images\n",
        "test_img = []\n",
        "for img_name in tqdm(test['id']):\n",
        "    # defining the image path\n",
        "    image_path = f'/content/drive/MyDrive/plant_data/test/{img_name}.png'\n",
        "    # reading the image\n",
        "    img = imread(image_path, as_gray=True)\n",
        "    # normalizing the pixel values\n",
        "    img /= 255.0\n",
        "    # converting the type of pixel to float 32\n",
        "    img = img.astype('float32')\n",
        "    # appending the image into the list\n",
        "    test_img.append(img)\n",
        "\n",
        "# converting the list to numpy array\n",
        "test_x = np.array(test_img)\n",
        "test_x.shape"
      ],
      "execution_count": 78,
      "outputs": [
        {
          "output_type": "stream",
          "text": [
            "100%|██████████| 47/47 [00:00<00:00, 196.44it/s]\n"
          ],
          "name": "stderr"
        },
        {
          "output_type": "execute_result",
          "data": {
            "text/plain": [
              "(47, 400, 400)"
            ]
          },
          "metadata": {
            "tags": []
          },
          "execution_count": 78
        }
      ]
    },
    {
      "cell_type": "code",
      "metadata": {
        "id": "guPsqzlSfnZG",
        "colab": {
          "base_uri": "https://localhost:8080/"
        },
        "outputId": "5a81d072-0840-4f7c-9bb4-751c4130c6ad"
      },
      "source": [
        "# converting training images into torch format\n",
        "test_x = test_x.reshape(47, 1, 400, 400)\n",
        "test_x  = torch.from_numpy(test_x)\n",
        "test_x.shape"
      ],
      "execution_count": 79,
      "outputs": [
        {
          "output_type": "execute_result",
          "data": {
            "text/plain": [
              "torch.Size([47, 1, 400, 400])"
            ]
          },
          "metadata": {
            "tags": []
          },
          "execution_count": 79
        }
      ]
    },
    {
      "cell_type": "code",
      "metadata": {
        "id": "AwSFiVsrfshZ"
      },
      "source": [
        "StopWatch.start(\"Test\")\n",
        "# generating predictions for test set\n",
        "with torch.no_grad():\n",
        "    output = model(test_x.cuda())\n",
        "\n",
        "softmax = torch.exp(output).cpu()\n",
        "prob = list(softmax.numpy())\n",
        "predictions = np.argmax(prob, axis=1)\n",
        "StopWatch.stop(\"Test\")"
      ],
      "execution_count": 80,
      "outputs": []
    },
    {
      "cell_type": "code",
      "metadata": {
        "id": "VzO2440DfuqB",
        "colab": {
          "base_uri": "https://localhost:8080/",
          "height": 206
        },
        "outputId": "e2e19014-1ddc-4e18-f38e-5b8f5d6e8607"
      },
      "source": [
        "# replacing the label with prediction\n",
        "predict['label'] = predictions\n",
        "predict.head()"
      ],
      "execution_count": 81,
      "outputs": [
        {
          "output_type": "execute_result",
          "data": {
            "text/html": [
              "<div>\n",
              "<style scoped>\n",
              "    .dataframe tbody tr th:only-of-type {\n",
              "        vertical-align: middle;\n",
              "    }\n",
              "\n",
              "    .dataframe tbody tr th {\n",
              "        vertical-align: top;\n",
              "    }\n",
              "\n",
              "    .dataframe thead th {\n",
              "        text-align: right;\n",
              "    }\n",
              "</style>\n",
              "<table border=\"1\" class=\"dataframe\">\n",
              "  <thead>\n",
              "    <tr style=\"text-align: right;\">\n",
              "      <th></th>\n",
              "      <th>id</th>\n",
              "      <th>label</th>\n",
              "    </tr>\n",
              "  </thead>\n",
              "  <tbody>\n",
              "    <tr>\n",
              "      <th>0</th>\n",
              "      <td>370</td>\n",
              "      <td>2</td>\n",
              "    </tr>\n",
              "    <tr>\n",
              "      <th>1</th>\n",
              "      <td>250</td>\n",
              "      <td>0</td>\n",
              "    </tr>\n",
              "    <tr>\n",
              "      <th>2</th>\n",
              "      <td>380</td>\n",
              "      <td>1</td>\n",
              "    </tr>\n",
              "    <tr>\n",
              "      <th>3</th>\n",
              "      <td>280</td>\n",
              "      <td>1</td>\n",
              "    </tr>\n",
              "    <tr>\n",
              "      <th>4</th>\n",
              "      <td>100</td>\n",
              "      <td>0</td>\n",
              "    </tr>\n",
              "  </tbody>\n",
              "</table>\n",
              "</div>"
            ],
            "text/plain": [
              "    id  label\n",
              "0  370      2\n",
              "1  250      0\n",
              "2  380      1\n",
              "3  280      1\n",
              "4  100      0"
            ]
          },
          "metadata": {
            "tags": []
          },
          "execution_count": 81
        }
      ]
    },
    {
      "cell_type": "code",
      "metadata": {
        "id": "YYQCznh-fxug"
      },
      "source": [
        "# saving the file\n",
        "predict.to_csv('/content/drive/MyDrive/plant_data/str_predict.csv', index=False)\n",
        "#predict.to_csv('/content/drive/MyDrive/plant_data/rot_predict.csv', index=False)"
      ],
      "execution_count": 82,
      "outputs": []
    },
    {
      "cell_type": "code",
      "metadata": {
        "id": "58kLU0bmqIQh",
        "colab": {
          "base_uri": "https://localhost:8080/"
        },
        "outputId": "05f7cd2b-f529-4528-aca5-e067f7320a3b"
      },
      "source": [
        "StopWatch.benchmark()"
      ],
      "execution_count": 83,
      "outputs": [
        {
          "output_type": "stream",
          "text": [
            "\n",
            "+---------------------+------------------------------------------------------------------+\n",
            "| Attribute           | Value                                                            |\n",
            "|---------------------+------------------------------------------------------------------|\n",
            "| BUG_REPORT_URL      | \"https://bugs.launchpad.net/ubuntu/\"                             |\n",
            "| DISTRIB_CODENAME    | bionic                                                           |\n",
            "| DISTRIB_DESCRIPTION | \"Ubuntu 18.04.5 LTS\"                                             |\n",
            "| DISTRIB_ID          | Ubuntu                                                           |\n",
            "| DISTRIB_RELEASE     | 18.04                                                            |\n",
            "| HOME_URL            | \"https://www.ubuntu.com/\"                                        |\n",
            "| ID                  | ubuntu                                                           |\n",
            "| ID_LIKE             | debian                                                           |\n",
            "| NAME                | \"Ubuntu\"                                                         |\n",
            "| PRETTY_NAME         | \"Ubuntu 18.04.5 LTS\"                                             |\n",
            "| PRIVACY_POLICY_URL  | \"https://www.ubuntu.com/legal/terms-and-policies/privacy-policy\" |\n",
            "| SUPPORT_URL         | \"https://help.ubuntu.com/\"                                       |\n",
            "| UBUNTU_CODENAME     | bionic                                                           |\n",
            "| VERSION             | \"18.04.5 LTS (Bionic Beaver)\"                                    |\n",
            "| VERSION_CODENAME    | bionic                                                           |\n",
            "| VERSION_ID          | \"18.04\"                                                          |\n",
            "| cpu_count           | 4                                                                |\n",
            "| mem.active          | 3.0 GiB                                                          |\n",
            "| mem.available       | 22.9 GiB                                                         |\n",
            "| mem.free            | 17.8 GiB                                                         |\n",
            "| mem.inactive        | 4.2 GiB                                                          |\n",
            "| mem.percent         | 10.3 %                                                           |\n",
            "| mem.total           | 25.5 GiB                                                         |\n",
            "| mem.used            | 4.2 GiB                                                          |\n",
            "| platform.version    | #1 SMP Thu Jul 23 08:00:38 PDT 2020                              |\n",
            "| python              | 3.7.10 (default, May  3 2021, 02:48:31)                          |\n",
            "|                     | [GCC 7.5.0]                                                      |\n",
            "| python.pip          | 19.3.1                                                           |\n",
            "| python.version      | 3.7.10                                                           |\n",
            "| sys.platform        | linux                                                            |\n",
            "| uname.machine       | x86_64                                                           |\n",
            "| uname.node          | 02e64857ba63                                                     |\n",
            "| uname.processor     | x86_64                                                           |\n",
            "| uname.release       | 4.19.112+                                                        |\n",
            "| uname.system        | Linux                                                            |\n",
            "| uname.version       | #1 SMP Thu Jul 23 08:00:38 PDT 2020                              |\n",
            "| user                | collab                                                           |\n",
            "+---------------------+------------------------------------------------------------------+\n",
            "\n",
            "+--------+----------+--------+--------+---------------------+-------+--------------+--------+-------+-------------------------------------+\n",
            "| Name   | Status   |   Time |    Sum | Start               | tag   | Node         | User   | OS    | Version                             |\n",
            "|--------+----------+--------+--------+---------------------+-------+--------------+--------+-------+-------------------------------------|\n",
            "| Train  | ok       |  6.809 | 21.801 | 2021-05-08 01:58:47 |       | 02e64857ba63 | collab | Linux | #1 SMP Thu Jul 23 08:00:38 PDT 2020 |\n",
            "| Test   | ok       |  0.015 |  0.061 | 2021-05-08 01:58:54 |       | 02e64857ba63 | collab | Linux | #1 SMP Thu Jul 23 08:00:38 PDT 2020 |\n",
            "+--------+----------+--------+--------+---------------------+-------+--------------+--------+-------+-------------------------------------+\n",
            "\n",
            "# csv,timer,status,time,sum,start,tag,uname.node,user,uname.system,platform.version\n",
            "# csv,Train,ok,6.809,21.801,2021-05-08 01:58:47,,02e64857ba63,collab,Linux,#1 SMP Thu Jul 23 08:00:38 PDT 2020\n",
            "# csv,Test,ok,0.015,0.061,2021-05-08 01:58:54,,02e64857ba63,collab,Linux,#1 SMP Thu Jul 23 08:00:38 PDT 2020\n",
            "\n"
          ],
          "name": "stdout"
        }
      ]
    },
    {
      "cell_type": "code",
      "metadata": {
        "id": "nqX3WfVcaHDY",
        "colab": {
          "base_uri": "https://localhost:8080/",
          "height": 98
        },
        "outputId": "afaa83cd-d33f-4117-9545-340f6b199ac8"
      },
      "source": [
        "X = test['label'].to_numpy()\n",
        "Y = predict['label'].to_numpy()\n",
        "combine = np.hstack((X,Y))\n",
        "combine = np.reshape(combine, (2,47))\n",
        "\n",
        "fig, ax = plt.subplots()\n",
        "ax.imshow(combine, interpolation='nearest', label=\"Top: Correct Distribution\\n\")\n",
        "plt.show()\n",
        "\n",
        "print(\"Top: the actual distribution of plant types\")\n",
        "print(\"Bottom: the AI prediction of plant types\")"
      ],
      "execution_count": 84,
      "outputs": [
        {
          "output_type": "display_data",
          "data": {
            "image/png": "[encoded data removed]",
            "text/plain": [
              "<Figure size 432x288 with 1 Axes>"
            ]
          },
          "metadata": {
            "tags": [],
            "needs_background": "light"
          }
        },
        {
          "output_type": "stream",
          "text": [
            "Top: the actual distribution of plant types\n",
            "Bottom: the AI prediction of plant types\n"
          ],
          "name": "stdout"
        }
      ]
    }
  ]
}