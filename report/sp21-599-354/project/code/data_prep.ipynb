{
  "nbformat": 4,
  "nbformat_minor": 0,
  "metadata": {
    "colab": {
      "name": "data_prep.ipynb",
      "provenance": [],
      "mount_file_id": "1LJbbnbFlejcwK_VY-JbNWIGbw8mgacF1",
      "authorship_tag": "ABX9TyPfYmXGvSOGm30fD7hw14+q",
      "include_colab_link": true
    },
    "kernelspec": {
      "name": "python3",
      "display_name": "Python 3"
    },
    "language_info": {
      "name": "python"
    }
  },
  "cells": [
    {
      "cell_type": "markdown",
      "metadata": {
        "id": "view-in-github",
        "colab_type": "text"
      },
      "source": [
        "<a href=\"https://colab.research.google.com/github/cybertraining-dsc/sp21-599-354/blob/main/project/code/data_prep.ipynb\" target=\"_parent\"><img src=\"https://colab.research.google.com/assets/colab-badge.svg\" alt=\"Open In Colab\"/></a>"
      ]
    },
    {
      "cell_type": "code",
      "metadata": {
        "id": "rF7H2IFYmijN"
      },
      "source": [
        "from PIL import Image, ImageOps\n",
        "from tqdm import tqdm\n",
        "\n",
        "import numpy as np\n",
        "import matplotlib.mlab as mlab\n",
        "import matplotlib.pyplot as plt\n",
        "\n",
        "import time\n",
        "\n",
        "import pandas as pd\n",
        "\n",
        "from zipfile import ZipFile\n"
      ],
      "execution_count": 1,
      "outputs": []
    },
    {
      "cell_type": "markdown",
      "metadata": {
        "id": "0C7NVrnHuTME"
      },
      "source": [
        "Pre-Processing data. First step is to get an idea of how large the images in each dataset are. I will be using black-grass, sugarbeets, and shepherd's purse as the plants to identify. All the images will be squares, so the max width or height of each image is recorded. The hisograms give an idea of the size ranges."
      ]
    },
    {
      "cell_type": "code",
      "metadata": {
        "id": "lmM-OUYO6MUo"
      },
      "source": [
        "black_grass_imgs = 333\n",
        "shepherds_purse_imgs = 276\n",
        "sugar_beet_imgs = 464\n",
        "\n",
        "black_grass_size = []\n",
        "shepherds_purse_size = []\n",
        "sugar_beet_size = []"
      ],
      "execution_count": 2,
      "outputs": []
    },
    {
      "cell_type": "markdown",
      "metadata": {
        "id": "InVkZSzSN9M2"
      },
      "source": [
        "To get an understanding of the sizes of the images and what should be the standard, the largest dimension of the images are recorded in the histograms to see if a good base line can be found."
      ]
    },
    {
      "cell_type": "code",
      "metadata": {
        "colab": {
          "base_uri": "https://localhost:8080/",
          "height": 265
        },
        "id": "nz0w2zu8197a",
        "outputId": "732e3ab7-3c56-4e18-9d05-9ac31df5a638"
      },
      "source": [
        "for i in range(1,black_grass_imgs+2):\n",
        "  if i == 100:\n",
        "    i += 1\n",
        "  img = Image.open('/content/drive/MyDrive/plant_data/Black-grass/'+str(i)+'.png')\n",
        "  w, h = img.size\n",
        "  black_grass_size.append(max(w, h))\n",
        "\n",
        "\n",
        "num_bins = 100\n",
        "n, bins, patches = plt.hist(black_grass_size, num_bins, facecolor='blue', alpha=0.5, label=\"black grass sizes\")\n",
        "plt.legend()\n",
        "plt.show()\n"
      ],
      "execution_count": 3,
      "outputs": [
        {
          "output_type": "display_data",
          "data": {
            "image/png": "[encoded data removed]",
            "text/plain": [
              "<Figure size 432x288 with 1 Axes>"
            ]
          },
          "metadata": {
            "tags": [],
            "needs_background": "light"
          }
        }
      ]
    },
    {
      "cell_type": "code",
      "metadata": {
        "colab": {
          "base_uri": "https://localhost:8080/",
          "height": 265
        },
        "id": "DNPbQp4c6Htq",
        "outputId": "5876f0ff-9335-4896-bd81-7a2e54069441"
      },
      "source": [
        "for i in range(1,shepherds_purse_imgs+1):\n",
        "  img = Image.open('/content/drive/MyDrive/plant_data/Shepherds-purse/'+str(i)+'.png')\n",
        "  w, h = img.size\n",
        "  shepherds_purse_size.append(max(w, h))\n",
        "\n",
        "\n",
        "num_bins = 100\n",
        "n, bins, patches = plt.hist(shepherds_purse_size, num_bins, facecolor='blue', alpha=0.5, label=\"shepherds purse sizes\")\n",
        "plt.legend()\n",
        "plt.show()"
      ],
      "execution_count": 4,
      "outputs": [
        {
          "output_type": "display_data",
          "data": {
            "image/png": "[encoded data removed]",
            "text/plain": [
              "<Figure size 432x288 with 1 Axes>"
            ]
          },
          "metadata": {
            "tags": [],
            "needs_background": "light"
          }
        }
      ]
    },
    {
      "cell_type": "code",
      "metadata": {
        "colab": {
          "base_uri": "https://localhost:8080/",
          "height": 265
        },
        "id": "4h5tNiOm7iMp",
        "outputId": "d7345cf1-192f-4919-b19f-c50e2ea9e7ad"
      },
      "source": [
        "for i in range(1,sugar_beet_imgs+1):\n",
        "  img = Image.open('/content/drive/MyDrive/plant_data/Sugar-beet/'+str(i)+'.png')\n",
        "  w, h = img.size\n",
        "  sugar_beet_size.append(max(w, h))\n",
        "\n",
        "\n",
        "num_bins = 100\n",
        "n, bins, patches = plt.hist(sugar_beet_size, num_bins, facecolor='blue', alpha=0.5, label=\"sugar beet sizes\")\n",
        "plt.legend()\n",
        "plt.show()"
      ],
      "execution_count": 5,
      "outputs": [
        {
          "output_type": "display_data",
          "data": {
            "image/png": "[encoded data removed]",
            "text/plain": [
              "<Figure size 432x288 with 1 Axes>"
            ]
          },
          "metadata": {
            "tags": [],
            "needs_background": "light"
          }
        }
      ]
    },
    {
      "cell_type": "code",
      "metadata": {
        "id": "LS7I-aNc0TDs"
      },
      "source": [
        "img_size = 300\n",
        "black_grass_set = []\n",
        "shepherds_purse_set = []\n",
        "sugar_beet_set = []"
      ],
      "execution_count": 6,
      "outputs": []
    },
    {
      "cell_type": "markdown",
      "metadata": {
        "id": "D5n6WnfDvHI8"
      },
      "source": [
        "It looks like a size of 300x300 pixels will be enough to get a good subset of each type of plant. The ultimae size of the images with padding must be large enough to keep the full image after rotation."
      ]
    },
    {
      "cell_type": "code",
      "metadata": {
        "id": "9JMwlwbFHuiz"
      },
      "source": [
        "#ids columns for rotation, straight, and test\n",
        "train_rot_id = []\n",
        "train_str_id = []\n",
        "test_id = []\n",
        "\n",
        "#label colums for rotation, straight, and test\n",
        "train_rot_label = []\n",
        "train_str_label = []\n",
        "test_label = []\n",
        "\n",
        "#starting rotation and straight ids, test is based on straight\n",
        "tr_id = 0\n",
        "ts_id = 0"
      ],
      "execution_count": 7,
      "outputs": []
    },
    {
      "cell_type": "markdown",
      "metadata": {
        "id": "o8KtuEQEPERB"
      },
      "source": [
        "The images in the CNN are labeled and navigated with CSVs that have two columns. One is an id that connects it to the name of the image, and the other is the label to identify the image. In this case, black grass will have label 0, shepherd's purse will have label 1, and sugar beet will have label 2. Above, the setup for the CSV structures are formed.\n",
        "\n",
        "Below, the images are all set to be 400x400, rotated as applicable, and saved as either test or training images. The straight and rotated ids are printed out for each section to help keep track of how many files to expect."
      ]
    },
    {
      "cell_type": "code",
      "metadata": {
        "colab": {
          "base_uri": "https://localhost:8080/"
        },
        "id": "V92YCLBF-jVl",
        "outputId": "55cb83c8-3e1d-40b7-bf5c-e9cabf00de5f"
      },
      "source": [
        "for i in range(1,black_grass_imgs+1):\n",
        "  if i == 100:\n",
        "    i += 1\n",
        "  if black_grass_size[i-1] <= img_size:\n",
        "    img = Image.open(f'/content/drive/MyDrive/plant_data/Black-grass/{i}.png')\n",
        "    w, h = img.size\n",
        "    wd, hd = int((400-w)/2), int((400-h)/2)\n",
        "    l, t, r, b = wd, hd, 400-w-wd, 400-h-hd\n",
        "    img = ImageOps.expand(img, border=(l, t, r, b), fill='black')\n",
        "    if ts_id % 10 == 0:\n",
        "      test_id.append(ts_id)\n",
        "      test_label.append(0)\n",
        "      img.save(f'/content/drive/MyDrive/plant_data/test/{ts_id}.png')\n",
        "      ts_id += 1\n",
        "    else:\n",
        "      train_str_id.append(ts_id)\n",
        "      train_str_label.append(0)\n",
        "      img.save(f'/content/drive/MyDrive/plant_data/train_str/{ts_id}.png')\n",
        "    \n",
        "      for rot in range(0, 360, 10):\n",
        "        train_rot_id.append(tr_id)\n",
        "        train_rot_label.append(0)\n",
        "        rot_img = img.rotate(rot)\n",
        "        rot_img.save(f'/content/drive/MyDrive/plant_data/train_rot/{tr_id}.png')\n",
        "        tr_id += 1\n",
        "\n",
        "      ts_id += 1\n",
        "\n",
        "print(ts_id, tr_id)\n",
        "\n",
        "\n",
        "\n"
      ],
      "execution_count": 8,
      "outputs": [
        {
          "output_type": "stream",
          "text": [
            "133 4284\n"
          ],
          "name": "stdout"
        }
      ]
    },
    {
      "cell_type": "code",
      "metadata": {
        "colab": {
          "base_uri": "https://localhost:8080/"
        },
        "id": "MOF85NvRwuzq",
        "outputId": "9c1157e1-b171-4baa-9a28-b6637c67cc26"
      },
      "source": [
        "\n",
        "\n",
        "for i in range(1,shepherds_purse_imgs):\n",
        "  if shepherds_purse_size[i] <= img_size:\n",
        "    img = Image.open(f'/content/drive/MyDrive/plant_data/Shepherds-purse/{i}.png')\n",
        "    shepherds_purse_set.append(img)\n",
        "    w, h = img.size\n",
        "    wd, hd = int((400-w)/2), int((400-h)/2)\n",
        "    l, t, r, b = wd, hd, 400-w-wd, 400-h-hd\n",
        "    img = ImageOps.expand(img, border=(l, t, r, b), fill='black')\n",
        "    if ts_id % 10 == 0:\n",
        "      test_id.append(ts_id)\n",
        "      test_label.append(1)\n",
        "      img.save(f'/content/drive/MyDrive/plant_data/test/{ts_id}.png')\n",
        "      ts_id += 1\n",
        "    else:\n",
        "      train_str_id.append(ts_id)\n",
        "      train_str_label.append(1)\n",
        "      img.save(f'/content/drive/MyDrive/plant_data/train_str/{ts_id}.png')\n",
        "    \n",
        "      for rot in range(0, 360, 10):\n",
        "        train_rot_id.append(tr_id)\n",
        "        train_rot_label.append(1)\n",
        "        rot_img = img.rotate(rot)\n",
        "        rot_img.save(f'/content/drive/MyDrive/plant_data/train_rot/{tr_id}.png')\n",
        "        tr_id += 1\n",
        "\n",
        "      ts_id += 1\n",
        "\n",
        "print(ts_id, tr_id)\n",
        "\n"
      ],
      "execution_count": 9,
      "outputs": [
        {
          "output_type": "stream",
          "text": [
            "323 10440\n"
          ],
          "name": "stdout"
        }
      ]
    },
    {
      "cell_type": "code",
      "metadata": {
        "colab": {
          "base_uri": "https://localhost:8080/"
        },
        "id": "iNcOZrGwytNf",
        "outputId": "a9d74808-341c-40f5-9efb-54a1d5a271c4"
      },
      "source": [
        "for i in range(1, sugar_beet_imgs):\n",
        "  if sugar_beet_size[i] <= img_size:\n",
        "    img = Image.open(f'/content/drive/MyDrive/plant_data/Sugar-beet/{i}.png')\n",
        "    sugar_beet_set.append(img)\n",
        "    w, h = img.size\n",
        "    wd, hd = int((400-w)/2), int((400-h)/2)\n",
        "    l, t, r, b = wd, hd, 400-w-wd, 400-h-hd\n",
        "    img = ImageOps.expand(img, border=(l, t, r, b), fill='black')\n",
        "    if ts_id % 10 == 0:\n",
        "      test_id.append(ts_id)\n",
        "      test_label.append(2)\n",
        "      img.save(f'/content/drive/MyDrive/plant_data/test/{ts_id}.png')\n",
        "      ts_id += 1\n",
        "    else:\n",
        "      train_str_id.append(ts_id)\n",
        "      train_str_label.append(2)\n",
        "      img.save(f'/content/drive/MyDrive/plant_data/train_str/{ts_id}.png')\n",
        "    \n",
        "      for rot in range(0, 360, 10):\n",
        "        train_rot_id.append(tr_id)\n",
        "        train_rot_label.append(2)\n",
        "        rot_img = img.rotate(rot)\n",
        "        rot_img.save(f'/content/drive/MyDrive/plant_data/train_rot/{tr_id}.png')\n",
        "        tr_id += 1\n",
        "\n",
        "      ts_id += 1\n",
        "\n",
        "print(ts_id, tr_id)"
      ],
      "execution_count": 10,
      "outputs": [
        {
          "output_type": "stream",
          "text": [
            "467 15120\n"
          ],
          "name": "stdout"
        }
      ]
    },
    {
      "cell_type": "markdown",
      "metadata": {
        "id": "kdcducViQnKW"
      },
      "source": [
        "Finally, the CSVs are formed, shuffled to mix up the data, and saved as csv files."
      ]
    },
    {
      "cell_type": "code",
      "metadata": {
        "id": "slFejHawrn3q"
      },
      "source": [
        "train_str = pd.DataFrame({'id':train_str_id, 'label':train_str_label})\n",
        "train_rot = pd.DataFrame({'id':train_rot_id, 'label':train_rot_label})\n",
        "test = pd.DataFrame({'id':test_id, 'label':test_label})\n",
        "\n",
        "train_str=train_str.sample(frac=1).reset_index(drop=True)\n",
        "train_rot=train_rot.sample(frac=1).reset_index(drop=True)\n",
        "test=test.sample(frac=1).reset_index(drop=True)\n",
        "\n",
        "train_str.to_csv('/content/drive/MyDrive/plant_data/train_str.csv', index=False)\n",
        "train_rot.to_csv('/content/drive/MyDrive/plant_data/train_rot.csv', index=False)\n",
        "test.to_csv('/content/drive/MyDrive/plant_data/test.csv', index=False)\n"
      ],
      "execution_count": 11,
      "outputs": []
    }
  ]
}