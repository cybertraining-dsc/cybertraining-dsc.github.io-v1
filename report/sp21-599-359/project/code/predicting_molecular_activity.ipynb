{
  "nbformat": 4,
  "nbformat_minor": 0,
  "metadata": {
    "colab": {
      "name": "predicting_molecular_activity.ipynb",
      "provenance": [],
      "collapsed_sections": [],
      "authorship_tag": "ABX9TyPVYIYtkuumeWVOv/A7qDmm"
    },
    "kernelspec": {
      "name": "python3",
      "display_name": "Python 3"
    },
    "language_info": {
      "name": "python"
    }
  },
  "cells": [
    {
      "cell_type": "markdown",
      "metadata": {
        "id": "qDZwPDS3ChXO"
      },
      "source": [
        "# Prerequisite Packages"
      ]
    },
    {
      "cell_type": "code",
      "metadata": {
        "id": "vO_rF2Bv9hVf",
        "colab": {
          "base_uri": "https://localhost:8080/"
        },
        "outputId": "85234247-0603-477b-ed8d-be2e5d312d28"
      },
      "source": [
        "!pip3 install cloudmesh-installer\n",
        "!pip3 install cloudmesh-common\n",
        "!pip3 install kaggle"
      ],
      "execution_count": null,
      "outputs": [
        {
          "output_type": "stream",
          "text": [
            "Collecting cloudmesh-installer\n",
            "  Downloading https://files.pythonhosted.org/packages/70/9a/599cb93400ea614646e1577649a7355fbcc4b308becf9c55bc89b3c781fc/cloudmesh_installer-4.4.28-py2.py3-none-any.whl\n",
            "Collecting pytest-cov\n",
            "  Downloading https://files.pythonhosted.org/packages/e3/1a/6affecd2344efee7f2487fac82242474cbac09f9e04929da5944907baf11/pytest_cov-2.11.1-py2.py3-none-any.whl\n",
            "Requirement already satisfied: psutil in /usr/local/lib/python3.7/dist-packages (from cloudmesh-installer) (5.4.8)\n",
            "Collecting bump2version==1.0.0\n",
            "  Downloading https://files.pythonhosted.org/packages/61/10/560509d9bfe8300e03d268dadec74fac7ae04a430f62e2d06d11d9e4e704/bump2version-1.0.0-py2.py3-none-any.whl\n",
            "Requirement already satisfied: requests in /usr/local/lib/python3.7/dist-packages (from cloudmesh-installer) (2.23.0)\n",
            "Collecting flake8\n",
            "\u001b[?25l  Downloading https://files.pythonhosted.org/packages/a0/b0/3b5820728d687f2c000476216a3fccc7a03baac1034afc0284ccde25e26d/flake8-3.9.1-py2.py3-none-any.whl (73kB)\n",
            "\u001b[K     |████████████████████████████████| 81kB 3.9MB/s \n",
            "\u001b[?25hCollecting python-hostlist\n",
            "  Downloading https://files.pythonhosted.org/packages/2b/4f/f31dd4b4bf1a57a5c29599e1165d0df70dbdddcfa59a7c1d04ee2ff4ccbd/python-hostlist-1.21.tar.gz\n",
            "Requirement already satisfied: tabulate in /usr/local/lib/python3.7/dist-packages (from cloudmesh-installer) (0.8.9)\n",
            "Collecting colorama\n",
            "  Downloading https://files.pythonhosted.org/packages/44/98/5b86278fbbf250d239ae0ecb724f8572af1c91f4a11edf4d36a206189440/colorama-0.4.4-py2.py3-none-any.whl\n",
            "Collecting pipdeptree\n",
            "  Downloading https://files.pythonhosted.org/packages/fa/22/8f1350b55e4297670813815142425b58829036197f0b4a0fc8f543928717/pipdeptree-2.0.0-py3-none-any.whl\n",
            "Requirement already satisfied: humanize in /usr/local/lib/python3.7/dist-packages (from cloudmesh-installer) (0.5.1)\n",
            "Requirement already satisfied: docopt in /usr/local/lib/python3.7/dist-packages (from cloudmesh-installer) (0.6.2)\n",
            "Collecting oyaml\n",
            "  Downloading https://files.pythonhosted.org/packages/37/aa/111610d8bf5b1bb7a295a048fc648cec346347a8b0be5881defd2d1b4a52/oyaml-1.0-py2.py3-none-any.whl\n",
            "Requirement already satisfied: coverage in /usr/local/lib/python3.7/dist-packages (from cloudmesh-installer) (3.7.1)\n",
            "Requirement already satisfied: pip-tools in /usr/local/lib/python3.7/dist-packages (from cloudmesh-installer) (4.5.1)\n",
            "Requirement already satisfied: wheel in /usr/local/lib/python3.7/dist-packages (from cloudmesh-installer) (0.36.2)\n",
            "Requirement already satisfied: pytest in /usr/local/lib/python3.7/dist-packages (from cloudmesh-installer) (3.6.4)\n",
            "Collecting cloudmesh-common\n",
            "\u001b[?25l  Downloading https://files.pythonhosted.org/packages/08/b9/60e838cd76b05e1991ffed2d1387c461a2fefd1e0aa09b230bff0624ff69/cloudmesh_common-4.3.65-py2.py3-none-any.whl (80kB)\n",
            "\u001b[K     |████████████████████████████████| 81kB 4.9MB/s \n",
            "\u001b[?25hCollecting ordered-set\n",
            "  Downloading https://files.pythonhosted.org/packages/f5/ab/8252360bfe965bba31ec05112b3067bd129ce4800d89e0b85613bc6044f6/ordered-set-4.0.2.tar.gz\n",
            "Requirement already satisfied: urllib3!=1.25.0,!=1.25.1,<1.26,>=1.21.1 in /usr/local/lib/python3.7/dist-packages (from requests->cloudmesh-installer) (1.24.3)\n",
            "Requirement already satisfied: idna<3,>=2.5 in /usr/local/lib/python3.7/dist-packages (from requests->cloudmesh-installer) (2.10)\n",
            "Requirement already satisfied: certifi>=2017.4.17 in /usr/local/lib/python3.7/dist-packages (from requests->cloudmesh-installer) (2020.12.5)\n",
            "Requirement already satisfied: chardet<4,>=3.0.2 in /usr/local/lib/python3.7/dist-packages (from requests->cloudmesh-installer) (3.0.4)\n",
            "Requirement already satisfied: importlib-metadata; python_version < \"3.8\" in /usr/local/lib/python3.7/dist-packages (from flake8->cloudmesh-installer) (3.10.1)\n",
            "Collecting pyflakes<2.4.0,>=2.3.0\n",
            "\u001b[?25l  Downloading https://files.pythonhosted.org/packages/6c/11/2a745612f1d3cbbd9c69ba14b1b43a35a2f5c3c81cd0124508c52c64307f/pyflakes-2.3.1-py2.py3-none-any.whl (68kB)\n",
            "\u001b[K     |████████████████████████████████| 71kB 4.6MB/s \n",
            "\u001b[?25hCollecting mccabe<0.7.0,>=0.6.0\n",
            "  Downloading https://files.pythonhosted.org/packages/87/89/479dc97e18549e21354893e4ee4ef36db1d237534982482c3681ee6e7b57/mccabe-0.6.1-py2.py3-none-any.whl\n",
            "Collecting pycodestyle<2.8.0,>=2.7.0\n",
            "\u001b[?25l  Downloading https://files.pythonhosted.org/packages/de/cc/227251b1471f129bc35e966bb0fceb005969023926d744139642d847b7ae/pycodestyle-2.7.0-py2.py3-none-any.whl (41kB)\n",
            "\u001b[K     |████████████████████████████████| 51kB 4.4MB/s \n",
            "\u001b[?25hRequirement already satisfied: pip>=6.0.0 in /usr/local/lib/python3.7/dist-packages (from pipdeptree->cloudmesh-installer) (19.3.1)\n",
            "Requirement already satisfied: pyyaml in /usr/local/lib/python3.7/dist-packages (from oyaml->cloudmesh-installer) (3.13)\n",
            "Requirement already satisfied: click>=7 in /usr/local/lib/python3.7/dist-packages (from pip-tools->cloudmesh-installer) (7.1.2)\n",
            "Requirement already satisfied: six in /usr/local/lib/python3.7/dist-packages (from pip-tools->cloudmesh-installer) (1.15.0)\n",
            "Requirement already satisfied: py>=1.5.0 in /usr/local/lib/python3.7/dist-packages (from pytest->cloudmesh-installer) (1.10.0)\n",
            "Requirement already satisfied: atomicwrites>=1.0 in /usr/local/lib/python3.7/dist-packages (from pytest->cloudmesh-installer) (1.4.0)\n",
            "Requirement already satisfied: attrs>=17.4.0 in /usr/local/lib/python3.7/dist-packages (from pytest->cloudmesh-installer) (20.3.0)\n",
            "Requirement already satisfied: more-itertools>=4.0.0 in /usr/local/lib/python3.7/dist-packages (from pytest->cloudmesh-installer) (8.7.0)\n",
            "Requirement already satisfied: setuptools in /usr/local/lib/python3.7/dist-packages (from pytest->cloudmesh-installer) (54.2.0)\n",
            "Requirement already satisfied: pluggy<0.8,>=0.5 in /usr/local/lib/python3.7/dist-packages (from pytest->cloudmesh-installer) (0.7.1)\n",
            "Requirement already satisfied: pytz in /usr/local/lib/python3.7/dist-packages (from cloudmesh-common->cloudmesh-installer) (2018.9)\n",
            "Collecting simplejson\n",
            "\u001b[?25l  Downloading https://files.pythonhosted.org/packages/a8/04/377418ac1e530ce2a196b54c6552c018fdf1fe776718053efb1f216bffcd/simplejson-3.17.2-cp37-cp37m-manylinux2010_x86_64.whl (128kB)\n",
            "\u001b[K     |████████████████████████████████| 133kB 7.0MB/s \n",
            "\u001b[?25hCollecting pyfiglet\n",
            "\u001b[?25l  Downloading https://files.pythonhosted.org/packages/33/07/fcfdd7a2872f5b348953de35acce1544dab0c1e8368dca54279b1cde5c15/pyfiglet-0.8.post1-py2.py3-none-any.whl (865kB)\n",
            "\u001b[K     |████████████████████████████████| 870kB 7.7MB/s \n",
            "\u001b[?25hRequirement already satisfied: python-dateutil in /usr/local/lib/python3.7/dist-packages (from cloudmesh-common->cloudmesh-installer) (2.8.1)\n",
            "Requirement already satisfied: pathlib in /usr/local/lib/python3.7/dist-packages (from cloudmesh-common->cloudmesh-installer) (1.0.1)\n",
            "Requirement already satisfied: tqdm in /usr/local/lib/python3.7/dist-packages (from cloudmesh-common->cloudmesh-installer) (4.41.1)\n",
            "Requirement already satisfied: zipp>=0.5 in /usr/local/lib/python3.7/dist-packages (from importlib-metadata; python_version < \"3.8\"->flake8->cloudmesh-installer) (3.4.1)\n",
            "Requirement already satisfied: typing-extensions>=3.6.4; python_version < \"3.8\" in /usr/local/lib/python3.7/dist-packages (from importlib-metadata; python_version < \"3.8\"->flake8->cloudmesh-installer) (3.7.4.3)\n",
            "Building wheels for collected packages: python-hostlist, ordered-set\n",
            "  Building wheel for python-hostlist (setup.py) ... \u001b[?25l\u001b[?25hdone\n",
            "  Created wheel for python-hostlist: filename=python_hostlist-1.21-cp37-none-any.whl size=38931 sha256=589f8b1f88eb81f276a6b91f0ea90ec02cf811a01ee2d1d32a18b11a10052730\n",
            "  Stored in directory: /root/.cache/pip/wheels/0b/5b/55/ddcf52288f0b10f4564ca1b2531594ff7ccc65f487ba8dc437\n",
            "  Building wheel for ordered-set (setup.py) ... \u001b[?25l\u001b[?25hdone\n",
            "  Created wheel for ordered-set: filename=ordered_set-4.0.2-py2.py3-none-any.whl size=8210 sha256=ddbdeb5033131bd253de90ddd764f8a223e2181987f0d9afc15ed0c151228f8f\n",
            "  Stored in directory: /root/.cache/pip/wheels/e1/c6/9b/651d8a21d59b51a75ab9c070838f9231b8126421bc0569af47\n",
            "Successfully built python-hostlist ordered-set\n",
            "\u001b[31mERROR: pytest-cov 2.11.1 has requirement coverage>=5.2.1, but you'll have coverage 3.7.1 which is incompatible.\u001b[0m\n",
            "\u001b[31mERROR: pytest-cov 2.11.1 has requirement pytest>=4.6, but you'll have pytest 3.6.4 which is incompatible.\u001b[0m\n",
            "Installing collected packages: pytest-cov, bump2version, pyflakes, mccabe, pycodestyle, flake8, python-hostlist, colorama, pipdeptree, oyaml, simplejson, pyfiglet, cloudmesh-common, ordered-set, cloudmesh-installer\n",
            "Successfully installed bump2version-1.0.0 cloudmesh-common-4.3.65 cloudmesh-installer-4.4.28 colorama-0.4.4 flake8-3.9.1 mccabe-0.6.1 ordered-set-4.0.2 oyaml-1.0 pipdeptree-2.0.0 pycodestyle-2.7.0 pyfiglet-0.8.post1 pyflakes-2.3.1 pytest-cov-2.11.1 python-hostlist-1.21 simplejson-3.17.2\n",
            "Requirement already satisfied: cloudmesh-common in /usr/local/lib/python3.7/dist-packages (4.3.65)\n",
            "Requirement already satisfied: simplejson in /usr/local/lib/python3.7/dist-packages (from cloudmesh-common) (3.17.2)\n",
            "Requirement already satisfied: pathlib in /usr/local/lib/python3.7/dist-packages (from cloudmesh-common) (1.0.1)\n",
            "Requirement already satisfied: python-dateutil in /usr/local/lib/python3.7/dist-packages (from cloudmesh-common) (2.8.1)\n",
            "Requirement already satisfied: requests in /usr/local/lib/python3.7/dist-packages (from cloudmesh-common) (2.23.0)\n",
            "Requirement already satisfied: tabulate in /usr/local/lib/python3.7/dist-packages (from cloudmesh-common) (0.8.9)\n",
            "Requirement already satisfied: pyfiglet in /usr/local/lib/python3.7/dist-packages (from cloudmesh-common) (0.8.post1)\n",
            "Requirement already satisfied: tqdm in /usr/local/lib/python3.7/dist-packages (from cloudmesh-common) (4.41.1)\n",
            "Requirement already satisfied: pytz in /usr/local/lib/python3.7/dist-packages (from cloudmesh-common) (2018.9)\n",
            "Requirement already satisfied: psutil in /usr/local/lib/python3.7/dist-packages (from cloudmesh-common) (5.4.8)\n",
            "Requirement already satisfied: oyaml in /usr/local/lib/python3.7/dist-packages (from cloudmesh-common) (1.0)\n",
            "Requirement already satisfied: humanize in /usr/local/lib/python3.7/dist-packages (from cloudmesh-common) (0.5.1)\n",
            "Requirement already satisfied: python-hostlist in /usr/local/lib/python3.7/dist-packages (from cloudmesh-common) (1.21)\n",
            "Requirement already satisfied: colorama in /usr/local/lib/python3.7/dist-packages (from cloudmesh-common) (0.4.4)\n",
            "Requirement already satisfied: six>=1.5 in /usr/local/lib/python3.7/dist-packages (from python-dateutil->cloudmesh-common) (1.15.0)\n",
            "Requirement already satisfied: chardet<4,>=3.0.2 in /usr/local/lib/python3.7/dist-packages (from requests->cloudmesh-common) (3.0.4)\n",
            "Requirement already satisfied: urllib3!=1.25.0,!=1.25.1,<1.26,>=1.21.1 in /usr/local/lib/python3.7/dist-packages (from requests->cloudmesh-common) (1.24.3)\n",
            "Requirement already satisfied: idna<3,>=2.5 in /usr/local/lib/python3.7/dist-packages (from requests->cloudmesh-common) (2.10)\n",
            "Requirement already satisfied: certifi>=2017.4.17 in /usr/local/lib/python3.7/dist-packages (from requests->cloudmesh-common) (2020.12.5)\n",
            "Requirement already satisfied: pyyaml in /usr/local/lib/python3.7/dist-packages (from oyaml->cloudmesh-common) (3.13)\n",
            "Requirement already satisfied: kaggle in /usr/local/lib/python3.7/dist-packages (1.5.12)\n",
            "Requirement already satisfied: certifi in /usr/local/lib/python3.7/dist-packages (from kaggle) (2020.12.5)\n",
            "Requirement already satisfied: python-dateutil in /usr/local/lib/python3.7/dist-packages (from kaggle) (2.8.1)\n",
            "Requirement already satisfied: six>=1.10 in /usr/local/lib/python3.7/dist-packages (from kaggle) (1.15.0)\n",
            "Requirement already satisfied: tqdm in /usr/local/lib/python3.7/dist-packages (from kaggle) (4.41.1)\n",
            "Requirement already satisfied: python-slugify in /usr/local/lib/python3.7/dist-packages (from kaggle) (4.0.1)\n",
            "Requirement already satisfied: urllib3 in /usr/local/lib/python3.7/dist-packages (from kaggle) (1.24.3)\n",
            "Requirement already satisfied: requests in /usr/local/lib/python3.7/dist-packages (from kaggle) (2.23.0)\n",
            "Requirement already satisfied: text-unidecode>=1.3 in /usr/local/lib/python3.7/dist-packages (from python-slugify->kaggle) (1.3)\n",
            "Requirement already satisfied: idna<3,>=2.5 in /usr/local/lib/python3.7/dist-packages (from requests->kaggle) (2.10)\n",
            "Requirement already satisfied: chardet<4,>=3.0.2 in /usr/local/lib/python3.7/dist-packages (from requests->kaggle) (3.0.4)\n"
          ],
          "name": "stdout"
        }
      ]
    },
    {
      "cell_type": "markdown",
      "metadata": {
        "id": "fV3jBQMhZCfC"
      },
      "source": [
        "# Sign Up for Kaggle Account and Generate API Token\n",
        "\n",
        "1. Sign Up for Kaggle account at https://www.kaggle.com. \n",
        "\n",
        "2. In Kaggle 'Profile'->'Account', generate api token by clicking 'Create New API Token'.\n",
        "\n",
        "# Upload Token into Colab\n",
        "3. Upload json file, with Kaggle api token and username, into Colab by running code below. Select downloaded 'kaggle.json' file when prompted and click 'Uplaod'.\n",
        "\n",
        "NB third-party cookies should be enabled for upload to work. "
      ]
    },
    {
      "cell_type": "code",
      "metadata": {
        "id": "EjpaoDYkecy_",
        "colab": {
          "resources": {
            "http://localhost:8080/nbextensions/google.colab/files.js": {
              "data": "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",
              "ok": true,
              "headers": [
                [
                  "content-type",
                  "application/javascript"
                ]
              ],
              "status": 200,
              "status_text": ""
            }
          },
          "base_uri": "https://localhost:8080/",
          "height": 91
        },
        "outputId": "837cc519-2cb6-4598-9965-debaeab5e1bf"
      },
      "source": [
        "from google.colab import files\n",
        "\n",
        "# upload json file with api token and username  \n",
        "files.upload()\n",
        "\n",
        "# create directory for token in Colab \n",
        "!mkdir ~/.kaggle\n",
        "\n",
        "# move file to directory\n",
        "!mv kaggle.json ~/.kaggle/\n",
        "\n",
        "# modify permissions on directory\n",
        "!chmod 600 ~/.kaggle/kaggle.json"
      ],
      "execution_count": null,
      "outputs": [
        {
          "output_type": "display_data",
          "data": {
            "text/html": [
              "\n",
              "     <input type=\"file\" id=\"files-d2daf801-bbd6-4c75-bcf7-95b9dcd64136\" name=\"files[]\" multiple disabled\n",
              "        style=\"border:none\" />\n",
              "     <output id=\"result-d2daf801-bbd6-4c75-bcf7-95b9dcd64136\">\n",
              "      Upload widget is only available when the cell has been executed in the\n",
              "      current browser session. Please rerun this cell to enable.\n",
              "      </output>\n",
              "      <script src=\"/nbextensions/google.colab/files.js\"></script> "
            ],
            "text/plain": [
              "<IPython.core.display.HTML object>"
            ]
          },
          "metadata": {
            "tags": []
          }
        },
        {
          "output_type": "stream",
          "text": [
            "Saving kaggle.json to kaggle.json\n",
            "mkdir: cannot create directory ‘/root/.kaggle’: File exists\n"
          ],
          "name": "stdout"
        }
      ]
    },
    {
      "cell_type": "markdown",
      "metadata": {
        "id": "3TZJ49o4B1OY"
      },
      "source": [
        "# Download Merck Molecular Activity Challenge Dataset "
      ]
    },
    {
      "cell_type": "code",
      "metadata": {
        "id": "bzcCzbZTBjwn",
        "colab": {
          "base_uri": "https://localhost:8080/"
        },
        "outputId": "28a824af-44e1-4227-c5f5-9879698b1b6a"
      },
      "source": [
        "# download dataset\n",
        "!kaggle competitions download -c MerckActivity\n",
        "\n",
        "# make train and test directories\n",
        "!mkdir /content/train /content/test\n",
        "\n",
        "# unzip train and test datasets into respective folders\n",
        "!unzip /content/TrainingSet.zip -d /content/train\n",
        "\n",
        "!unzip /content/TestSet.zip -d /content/test\n"
      ],
      "execution_count": null,
      "outputs": [
        {
          "output_type": "stream",
          "text": [
            "Warning: Looks like you're using an outdated API Version, please consider updating (server 1.5.12 / client 1.5.4)\n",
            "Downloading TrainingSet.zip to /content\n",
            " 77% 41.0M/53.1M [00:00<00:00, 48.5MB/s]\n",
            "100% 53.1M/53.1M [00:00<00:00, 83.6MB/s]\n",
            "Downloading TestSet.zip to /content\n",
            " 39% 7.00M/18.0M [00:00<00:00, 71.0MB/s]\n",
            "100% 18.0M/18.0M [00:00<00:00, 115MB/s] \n",
            "Downloading TestSet.7z to /content\n",
            " 78% 9.00M/11.5M [00:00<00:00, 92.9MB/s]\n",
            "100% 11.5M/11.5M [00:00<00:00, 106MB/s] \n",
            "Downloading ntree20_basicBenchmark.csv.zip to /content\n",
            "  0% 0.00/499k [00:00<?, ?B/s]\n",
            "100% 499k/499k [00:00<00:00, 161MB/s]\n",
            "Downloading Rsquared.R to /content\n",
            "  0% 0.00/523 [00:00<?, ?B/s]\n",
            "100% 523/523 [00:00<00:00, 412kB/s]\n",
            "Downloading TrainingSet.7z to /content\n",
            " 71% 24.0M/33.6M [00:00<00:00, 57.8MB/s]\n",
            "100% 33.6M/33.6M [00:00<00:00, 84.4MB/s]\n",
            "Downloading ntree20_benchmark.R to /content\n",
            "  0% 0.00/1.33k [00:00<?, ?B/s]\n",
            "100% 1.33k/1.33k [00:00<00:00, 1.08MB/s]\n",
            "mkdir: cannot create directory ‘/content/train’: File exists\n",
            "mkdir: cannot create directory ‘/content/test’: File exists\n",
            "Archive:  /content/TrainingSet.zip\n",
            "   creating: /content/train/TrainingSet/\n",
            "  inflating: /content/train/TrainingSet/ACT10_competition_training.csv  \n",
            "  inflating: /content/train/TrainingSet/ACT11_competition_training.csv  \n",
            "  inflating: /content/train/TrainingSet/ACT12_competition_training.csv  \n",
            "  inflating: /content/train/TrainingSet/ACT13_competition_training.csv  \n",
            "  inflating: /content/train/TrainingSet/ACT14_competition_training.csv  \n",
            "  inflating: /content/train/TrainingSet/ACT15_competition_training.csv  \n",
            "  inflating: /content/train/TrainingSet/ACT1_competition_training.csv  \n",
            "  inflating: /content/train/TrainingSet/ACT2_competition_training.csv  \n",
            "  inflating: /content/train/TrainingSet/ACT3_competition_training.csv  \n",
            "  inflating: /content/train/TrainingSet/ACT4_competition_training.csv  \n",
            "  inflating: /content/train/TrainingSet/ACT5_competition_training.csv  \n",
            "  inflating: /content/train/TrainingSet/ACT6_competition_training.csv  \n",
            "  inflating: /content/train/TrainingSet/ACT7_competition_training.csv  \n",
            "  inflating: /content/train/TrainingSet/ACT8_competition_training.csv  \n",
            "  inflating: /content/train/TrainingSet/ACT9_competition_training.csv  \n",
            "Archive:  /content/TestSet.zip\n",
            "   creating: /content/test/TestSet/\n",
            "  inflating: /content/test/TestSet/ACT10_competition_test.csv  \n",
            "  inflating: /content/test/TestSet/ACT11_competition_test.csv  \n",
            "  inflating: /content/test/TestSet/ACT12_competition_test.csv  \n",
            "  inflating: /content/test/TestSet/ACT13_competition_test.csv  \n",
            "  inflating: /content/test/TestSet/ACT14_competition_test.csv  \n",
            "  inflating: /content/test/TestSet/ACT15_competition_test.csv  \n",
            "  inflating: /content/test/TestSet/ACT1_competition_test.csv  \n",
            "  inflating: /content/test/TestSet/ACT2_competition_test.csv  \n",
            "  inflating: /content/test/TestSet/ACT3_competition_test.csv  \n",
            "  inflating: /content/test/TestSet/ACT4_competition_test.csv  \n",
            "  inflating: /content/test/TestSet/ACT5_competition_test.csv  \n",
            "  inflating: /content/test/TestSet/ACT6_competition_test.csv  \n",
            "  inflating: /content/test/TestSet/ACT7_competition_test.csv  \n",
            "  inflating: /content/test/TestSet/ACT8_competition_test.csv  \n",
            "  inflating: /content/test/TestSet/ACT9_competition_test.csv  \n"
          ],
          "name": "stdout"
        }
      ]
    },
    {
      "cell_type": "markdown",
      "metadata": {
        "id": "KDLzQczXC9kP"
      },
      "source": [
        "# Predicting Molecular Activity"
      ]
    },
    {
      "cell_type": "code",
      "metadata": {
        "id": "_SjqbXcx3dDx"
      },
      "source": [
        "from __future__ import absolute_import\n",
        "from __future__ import division\n",
        "from __future__ import print_function\n",
        "import numpy as np\n",
        "import tensorflow as tf\n",
        "from keras.models import Sequential\n",
        "from keras.layers import Dense, Activation, Dropout, InputLayer, Concatenate\n",
        "from keras.utils import to_categorical, plot_model\n",
        "from keras.utils.vis_utils import model_to_dot\n",
        "from cloudmesh.common.StopWatch import StopWatch\n",
        "\n",
        "#Pre-process data\n",
        "#tf.enable_eager_execution()\n",
        "tf.executing_eagerly()\n",
        "\n",
        "#defaults = [tf.int32] * 6276\n",
        "dataset_training = tf.data.Dataset.list_files(\"/content/train/TrainingSet/*.csv\")\n",
        "dataset_testing = tf.data.Dataset.list_files(\"/content/test/TestSet/*.csv\")\n",
        "#dataset = tf.data.experimental.make_csv_dataset(file_pattern = \"/content/train/TrainingSet/*.csv\",\n",
        "#    batch_size=10, num_epochs=1,\n",
        "#    num_parallel_reads=15,\n",
        "#    shuffle_buffer_size=10000)\n",
        "\n",
        "#molecular_codes = []\n",
        "\n",
        "#def _parse_csv_row(*vals):\n",
        "#  molecular_activity_t = tf.convert_to_tensor(vals[3:6276])\n",
        "#  features = dict(zip(molecular_codes,molecular_activity_t)) \n",
        "#  return features, class_label\n",
        "\n",
        "#Define parameters\n",
        "\n",
        "# Define fully connected network/MLP\n",
        "#def fcn_model(input_size=input_size):\n",
        " #model = Sequential()\n",
        " #model.add(Activation('relu'))\n",
        " # model.add(Dropout(dropout))\n",
        " # model.add(Dense(hidden_units))\n",
        " # model.add(Activation('relu'))\n",
        " # model.add(Dropout(dropout))\n",
        " # model.add(Dense(hidden_units))\n",
        " # model.add(Activation('relu'))\n",
        " # model.add(Dropout(dropout))\n",
        " # model.add(Dense(hidden_units))\n",
        " # model.add(Activation('relu'))\n",
        " # model.add(Dropout(dropout))\n",
        " # model.add(Dense(num_labels))\n",
        " # model.add(Activation('softmax'))\n",
        " # model.summary()\n",
        " # model.compile(loss='categorical_crossentropy', optimizer='adam', metrics=['accuracy'])\n",
        " # return model\n",
        "\n",
        "#plot_model(fcn_model(), to_file='molecular_activity_fcn.png', show_shapes=True)\n",
        "\n"
      ],
      "execution_count": null,
      "outputs": []
    }
  ]
}