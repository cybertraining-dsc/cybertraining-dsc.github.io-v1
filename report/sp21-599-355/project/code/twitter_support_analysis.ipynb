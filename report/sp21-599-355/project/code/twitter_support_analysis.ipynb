{
  "nbformat": 4,
  "nbformat_minor": 0,
  "metadata": {
    "colab": {
      "name": "twitter_support_analysis.ipynb",
      "provenance": [],
      "collapsed_sections": []
    },
    "kernelspec": {
      "name": "python3",
      "display_name": "Python 3"
    },
    "language_info": {
      "name": "python"
    }
  },
  "cells": [
    {
      "cell_type": "markdown",
      "metadata": {
        "id": "0ECjye51Y1Xj"
      },
      "source": [
        "# Goals\n",
        "\n",
        "  * sentiment analysis on twitter thread interactions.\n",
        "  * train a model to be able to predict conversation sentiment.\n",
        "\n",
        "      * based on the first tweet?\n",
        "      * proactive measures for dealing with customers.\n",
        "\n",
        "# Note to self\n",
        "\n",
        "* find a different way to download\n",
        "* figure out best order... to pre-process\n",
        "* stopwatches \n",
        "* figure out best way to split up the data \n",
        "* train test split for both models \n",
        "  \n",
        "  * pick the best to use for project"
      ]
    },
    {
      "cell_type": "code",
      "metadata": {
        "id": "frC_b1LyViuv",
        "colab": {
          "resources": {
            "http://localhost:8080/nbextensions/google.colab/files.js": {
              "data": "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",
              "ok": true,
              "headers": [
                [
                  "content-type",
                  "application/javascript"
                ]
              ],
              "status": 200,
              "status_text": ""
            }
          },
          "base_uri": "https://localhost:8080/",
          "height": 124
        },
        "outputId": "19754abc-cb64-4b10-8184-e554aaf94bc3"
      },
      "source": [
        "!pip install -q kaggle\n",
        "from google.colab import files \n",
        "files.upload()\n",
        "!mkdir ~/.kaggle\n",
        "!cp kaggle.json ~/.kaggle/\n",
        "!chmod 600 ~/.kaggle/kaggle.json\n",
        "!kaggle datasets download -d thoughtvector/customer-support-on-twitter\n"
      ],
      "execution_count": 1,
      "outputs": [
        {
          "output_type": "display_data",
          "data": {
            "text/html": [
              "\n",
              "     <input type=\"file\" id=\"files-6558fcbe-d3d6-4139-89fb-f20c03797135\" name=\"files[]\" multiple disabled\n",
              "        style=\"border:none\" />\n",
              "     <output id=\"result-6558fcbe-d3d6-4139-89fb-f20c03797135\">\n",
              "      Upload widget is only available when the cell has been executed in the\n",
              "      current browser session. Please rerun this cell to enable.\n",
              "      </output>\n",
              "      <script src=\"/nbextensions/google.colab/files.js\"></script> "
            ],
            "text/plain": [
              "<IPython.core.display.HTML object>"
            ]
          },
          "metadata": {
            "tags": []
          }
        },
        {
          "output_type": "stream",
          "text": [
            "Saving kaggle.json to kaggle.json\n",
            "Downloading customer-support-on-twitter.zip to /content\n",
            " 98% 165M/169M [00:02<00:00, 91.3MB/s]\n",
            "100% 169M/169M [00:02<00:00, 76.1MB/s]\n"
          ],
          "name": "stdout"
        }
      ]
    },
    {
      "cell_type": "code",
      "metadata": {
        "id": "IdOtx4QsZXiu",
        "colab": {
          "base_uri": "https://localhost:8080/"
        },
        "outputId": "a2a20817-5e74-4bf9-d801-d681dc6bdc6b"
      },
      "source": [
        "!pip install cloudmesh-installer\n",
        "!pip install cloudmesh-common "
      ],
      "execution_count": 2,
      "outputs": [
        {
          "output_type": "stream",
          "text": [
            "Collecting cloudmesh-installer\n",
            "  Downloading https://files.pythonhosted.org/packages/70/9a/599cb93400ea614646e1577649a7355fbcc4b308becf9c55bc89b3c781fc/cloudmesh_installer-4.4.28-py2.py3-none-any.whl\n",
            "Requirement already satisfied: wheel in /usr/local/lib/python3.7/dist-packages (from cloudmesh-installer) (0.36.2)\n",
            "Collecting ordered-set\n",
            "  Downloading https://files.pythonhosted.org/packages/f5/ab/8252360bfe965bba31ec05112b3067bd129ce4800d89e0b85613bc6044f6/ordered-set-4.0.2.tar.gz\n",
            "Requirement already satisfied: requests in /usr/local/lib/python3.7/dist-packages (from cloudmesh-installer) (2.23.0)\n",
            "Collecting cloudmesh-common\n",
            "\u001b[?25l  Downloading https://files.pythonhosted.org/packages/1f/0e/5f922ad8efab9d4070e66d6b690c957966760f65c135de91098f856d2438/cloudmesh_common-4.3.66-py2.py3-none-any.whl (80kB)\n",
            "\u001b[K     |████████████████████████████████| 81kB 4.5MB/s \n",
            "\u001b[?25hRequirement already satisfied: coverage in /usr/local/lib/python3.7/dist-packages (from cloudmesh-installer) (3.7.1)\n",
            "Collecting flake8\n",
            "\u001b[?25l  Downloading https://files.pythonhosted.org/packages/a0/b0/3b5820728d687f2c000476216a3fccc7a03baac1034afc0284ccde25e26d/flake8-3.9.1-py2.py3-none-any.whl (73kB)\n",
            "\u001b[K     |████████████████████████████████| 81kB 5.6MB/s \n",
            "\u001b[?25hCollecting pipdeptree\n",
            "  Downloading https://files.pythonhosted.org/packages/fa/22/8f1350b55e4297670813815142425b58829036197f0b4a0fc8f543928717/pipdeptree-2.0.0-py3-none-any.whl\n",
            "Requirement already satisfied: humanize in /usr/local/lib/python3.7/dist-packages (from cloudmesh-installer) (0.5.1)\n",
            "Collecting oyaml\n",
            "  Downloading https://files.pythonhosted.org/packages/37/aa/111610d8bf5b1bb7a295a048fc648cec346347a8b0be5881defd2d1b4a52/oyaml-1.0-py2.py3-none-any.whl\n",
            "Requirement already satisfied: tabulate in /usr/local/lib/python3.7/dist-packages (from cloudmesh-installer) (0.8.9)\n",
            "Requirement already satisfied: pytest in /usr/local/lib/python3.7/dist-packages (from cloudmesh-installer) (3.6.4)\n",
            "Collecting bump2version==1.0.0\n",
            "  Downloading https://files.pythonhosted.org/packages/61/10/560509d9bfe8300e03d268dadec74fac7ae04a430f62e2d06d11d9e4e704/bump2version-1.0.0-py2.py3-none-any.whl\n",
            "Requirement already satisfied: pip-tools in /usr/local/lib/python3.7/dist-packages (from cloudmesh-installer) (4.5.1)\n",
            "Collecting python-hostlist\n",
            "  Downloading https://files.pythonhosted.org/packages/2b/4f/f31dd4b4bf1a57a5c29599e1165d0df70dbdddcfa59a7c1d04ee2ff4ccbd/python-hostlist-1.21.tar.gz\n",
            "Collecting colorama\n",
            "  Downloading https://files.pythonhosted.org/packages/44/98/5b86278fbbf250d239ae0ecb724f8572af1c91f4a11edf4d36a206189440/colorama-0.4.4-py2.py3-none-any.whl\n",
            "Requirement already satisfied: psutil in /usr/local/lib/python3.7/dist-packages (from cloudmesh-installer) (5.4.8)\n",
            "Requirement already satisfied: docopt in /usr/local/lib/python3.7/dist-packages (from cloudmesh-installer) (0.6.2)\n",
            "Collecting pytest-cov\n",
            "  Downloading https://files.pythonhosted.org/packages/e3/1a/6affecd2344efee7f2487fac82242474cbac09f9e04929da5944907baf11/pytest_cov-2.11.1-py2.py3-none-any.whl\n",
            "Requirement already satisfied: idna<3,>=2.5 in /usr/local/lib/python3.7/dist-packages (from requests->cloudmesh-installer) (2.10)\n",
            "Requirement already satisfied: urllib3!=1.25.0,!=1.25.1,<1.26,>=1.21.1 in /usr/local/lib/python3.7/dist-packages (from requests->cloudmesh-installer) (1.24.3)\n",
            "Requirement already satisfied: chardet<4,>=3.0.2 in /usr/local/lib/python3.7/dist-packages (from requests->cloudmesh-installer) (3.0.4)\n",
            "Requirement already satisfied: certifi>=2017.4.17 in /usr/local/lib/python3.7/dist-packages (from requests->cloudmesh-installer) (2020.12.5)\n",
            "Collecting simplejson\n",
            "\u001b[?25l  Downloading https://files.pythonhosted.org/packages/a8/04/377418ac1e530ce2a196b54c6552c018fdf1fe776718053efb1f216bffcd/simplejson-3.17.2-cp37-cp37m-manylinux2010_x86_64.whl (128kB)\n",
            "\u001b[K     |████████████████████████████████| 133kB 13.5MB/s \n",
            "\u001b[?25hRequirement already satisfied: tqdm in /usr/local/lib/python3.7/dist-packages (from cloudmesh-common->cloudmesh-installer) (4.41.1)\n",
            "Requirement already satisfied: pathlib in /usr/local/lib/python3.7/dist-packages (from cloudmesh-common->cloudmesh-installer) (1.0.1)\n",
            "Requirement already satisfied: python-dateutil in /usr/local/lib/python3.7/dist-packages (from cloudmesh-common->cloudmesh-installer) (2.8.1)\n",
            "Collecting pyfiglet\n",
            "\u001b[?25l  Downloading https://files.pythonhosted.org/packages/33/07/fcfdd7a2872f5b348953de35acce1544dab0c1e8368dca54279b1cde5c15/pyfiglet-0.8.post1-py2.py3-none-any.whl (865kB)\n",
            "\u001b[K     |████████████████████████████████| 870kB 14.2MB/s \n",
            "\u001b[?25hRequirement already satisfied: pytz in /usr/local/lib/python3.7/dist-packages (from cloudmesh-common->cloudmesh-installer) (2018.9)\n",
            "Collecting pycodestyle<2.8.0,>=2.7.0\n",
            "\u001b[?25l  Downloading https://files.pythonhosted.org/packages/de/cc/227251b1471f129bc35e966bb0fceb005969023926d744139642d847b7ae/pycodestyle-2.7.0-py2.py3-none-any.whl (41kB)\n",
            "\u001b[K     |████████████████████████████████| 51kB 4.7MB/s \n",
            "\u001b[?25hRequirement already satisfied: importlib-metadata; python_version < \"3.8\" in /usr/local/lib/python3.7/dist-packages (from flake8->cloudmesh-installer) (3.10.1)\n",
            "Collecting pyflakes<2.4.0,>=2.3.0\n",
            "\u001b[?25l  Downloading https://files.pythonhosted.org/packages/6c/11/2a745612f1d3cbbd9c69ba14b1b43a35a2f5c3c81cd0124508c52c64307f/pyflakes-2.3.1-py2.py3-none-any.whl (68kB)\n",
            "\u001b[K     |████████████████████████████████| 71kB 6.5MB/s \n",
            "\u001b[?25hCollecting mccabe<0.7.0,>=0.6.0\n",
            "  Downloading https://files.pythonhosted.org/packages/87/89/479dc97e18549e21354893e4ee4ef36db1d237534982482c3681ee6e7b57/mccabe-0.6.1-py2.py3-none-any.whl\n",
            "Requirement already satisfied: pip>=6.0.0 in /usr/local/lib/python3.7/dist-packages (from pipdeptree->cloudmesh-installer) (19.3.1)\n",
            "Requirement already satisfied: pyyaml in /usr/local/lib/python3.7/dist-packages (from oyaml->cloudmesh-installer) (3.13)\n",
            "Requirement already satisfied: attrs>=17.4.0 in /usr/local/lib/python3.7/dist-packages (from pytest->cloudmesh-installer) (20.3.0)\n",
            "Requirement already satisfied: six>=1.10.0 in /usr/local/lib/python3.7/dist-packages (from pytest->cloudmesh-installer) (1.15.0)\n",
            "Requirement already satisfied: setuptools in /usr/local/lib/python3.7/dist-packages (from pytest->cloudmesh-installer) (56.0.0)\n",
            "Requirement already satisfied: atomicwrites>=1.0 in /usr/local/lib/python3.7/dist-packages (from pytest->cloudmesh-installer) (1.4.0)\n",
            "Requirement already satisfied: more-itertools>=4.0.0 in /usr/local/lib/python3.7/dist-packages (from pytest->cloudmesh-installer) (8.7.0)\n",
            "Requirement already satisfied: py>=1.5.0 in /usr/local/lib/python3.7/dist-packages (from pytest->cloudmesh-installer) (1.10.0)\n",
            "Requirement already satisfied: pluggy<0.8,>=0.5 in /usr/local/lib/python3.7/dist-packages (from pytest->cloudmesh-installer) (0.7.1)\n",
            "Requirement already satisfied: click>=7 in /usr/local/lib/python3.7/dist-packages (from pip-tools->cloudmesh-installer) (7.1.2)\n",
            "Requirement already satisfied: typing-extensions>=3.6.4; python_version < \"3.8\" in /usr/local/lib/python3.7/dist-packages (from importlib-metadata; python_version < \"3.8\"->flake8->cloudmesh-installer) (3.7.4.3)\n",
            "Requirement already satisfied: zipp>=0.5 in /usr/local/lib/python3.7/dist-packages (from importlib-metadata; python_version < \"3.8\"->flake8->cloudmesh-installer) (3.4.1)\n",
            "Building wheels for collected packages: ordered-set, python-hostlist\n",
            "  Building wheel for ordered-set (setup.py) ... \u001b[?25l\u001b[?25hdone\n",
            "  Created wheel for ordered-set: filename=ordered_set-4.0.2-py2.py3-none-any.whl size=8210 sha256=495098bc0e469ba30362a28d0cba1ab563409de462af32cf3aa646a5b4b7472c\n",
            "  Stored in directory: /root/.cache/pip/wheels/e1/c6/9b/651d8a21d59b51a75ab9c070838f9231b8126421bc0569af47\n",
            "  Building wheel for python-hostlist (setup.py) ... \u001b[?25l\u001b[?25hdone\n",
            "  Created wheel for python-hostlist: filename=python_hostlist-1.21-cp37-none-any.whl size=38931 sha256=9142683f853160a70b7580bd00acc61edfa30295b09af53d29de0145e59ee19c\n",
            "  Stored in directory: /root/.cache/pip/wheels/0b/5b/55/ddcf52288f0b10f4564ca1b2531594ff7ccc65f487ba8dc437\n",
            "Successfully built ordered-set python-hostlist\n",
            "\u001b[31mERROR: pytest-cov 2.11.1 has requirement coverage>=5.2.1, but you'll have coverage 3.7.1 which is incompatible.\u001b[0m\n",
            "\u001b[31mERROR: pytest-cov 2.11.1 has requirement pytest>=4.6, but you'll have pytest 3.6.4 which is incompatible.\u001b[0m\n",
            "Installing collected packages: ordered-set, simplejson, oyaml, python-hostlist, colorama, pyfiglet, cloudmesh-common, pycodestyle, pyflakes, mccabe, flake8, pipdeptree, bump2version, pytest-cov, cloudmesh-installer\n",
            "Successfully installed bump2version-1.0.0 cloudmesh-common-4.3.66 cloudmesh-installer-4.4.28 colorama-0.4.4 flake8-3.9.1 mccabe-0.6.1 ordered-set-4.0.2 oyaml-1.0 pipdeptree-2.0.0 pycodestyle-2.7.0 pyfiglet-0.8.post1 pyflakes-2.3.1 pytest-cov-2.11.1 python-hostlist-1.21 simplejson-3.17.2\n",
            "Requirement already satisfied: cloudmesh-common in /usr/local/lib/python3.7/dist-packages (4.3.66)\n",
            "Requirement already satisfied: simplejson in /usr/local/lib/python3.7/dist-packages (from cloudmesh-common) (3.17.2)\n",
            "Requirement already satisfied: pyfiglet in /usr/local/lib/python3.7/dist-packages (from cloudmesh-common) (0.8.post1)\n",
            "Requirement already satisfied: psutil in /usr/local/lib/python3.7/dist-packages (from cloudmesh-common) (5.4.8)\n",
            "Requirement already satisfied: oyaml in /usr/local/lib/python3.7/dist-packages (from cloudmesh-common) (1.0)\n",
            "Requirement already satisfied: requests in /usr/local/lib/python3.7/dist-packages (from cloudmesh-common) (2.23.0)\n",
            "Requirement already satisfied: colorama in /usr/local/lib/python3.7/dist-packages (from cloudmesh-common) (0.4.4)\n",
            "Requirement already satisfied: python-hostlist in /usr/local/lib/python3.7/dist-packages (from cloudmesh-common) (1.21)\n",
            "Requirement already satisfied: python-dateutil in /usr/local/lib/python3.7/dist-packages (from cloudmesh-common) (2.8.1)\n",
            "Requirement already satisfied: humanize in /usr/local/lib/python3.7/dist-packages (from cloudmesh-common) (0.5.1)\n",
            "Requirement already satisfied: pathlib in /usr/local/lib/python3.7/dist-packages (from cloudmesh-common) (1.0.1)\n",
            "Requirement already satisfied: pytz in /usr/local/lib/python3.7/dist-packages (from cloudmesh-common) (2018.9)\n",
            "Requirement already satisfied: tqdm in /usr/local/lib/python3.7/dist-packages (from cloudmesh-common) (4.41.1)\n",
            "Requirement already satisfied: tabulate in /usr/local/lib/python3.7/dist-packages (from cloudmesh-common) (0.8.9)\n",
            "Requirement already satisfied: pyyaml in /usr/local/lib/python3.7/dist-packages (from oyaml->cloudmesh-common) (3.13)\n",
            "Requirement already satisfied: urllib3!=1.25.0,!=1.25.1,<1.26,>=1.21.1 in /usr/local/lib/python3.7/dist-packages (from requests->cloudmesh-common) (1.24.3)\n",
            "Requirement already satisfied: idna<3,>=2.5 in /usr/local/lib/python3.7/dist-packages (from requests->cloudmesh-common) (2.10)\n",
            "Requirement already satisfied: chardet<4,>=3.0.2 in /usr/local/lib/python3.7/dist-packages (from requests->cloudmesh-common) (3.0.4)\n",
            "Requirement already satisfied: certifi>=2017.4.17 in /usr/local/lib/python3.7/dist-packages (from requests->cloudmesh-common) (2020.12.5)\n",
            "Requirement already satisfied: six>=1.5 in /usr/local/lib/python3.7/dist-packages (from python-dateutil->cloudmesh-common) (1.15.0)\n"
          ],
          "name": "stdout"
        }
      ]
    },
    {
      "cell_type": "code",
      "metadata": {
        "id": "uKPp0yGEVpfJ",
        "colab": {
          "base_uri": "https://localhost:8080/"
        },
        "outputId": "d9a258a9-7bbe-4fbc-a5a1-4e975bbce1e8"
      },
      "source": [
        "from __future__ import absolute_import \n",
        "from __future__ import division\n",
        "from __future__ import print_function\n",
        "\n",
        "import time\n",
        "from cloudmesh.common.StopWatch import StopWatch\n",
        "from cloudmesh.common.Benchmark import Benchmark\n",
        "from cloudmesh.common.Shell import Shell\n",
        "\n",
        "import zipfile \n",
        "\n",
        "#dealing with data\n",
        "import matplotlib.pyplot as plt\n",
        "import pandas as pd\n",
        "import numpy as np\n",
        "import seaborn as sns\n",
        "import sklearn\n",
        "from sklearn.model_selection import train_test_split\n",
        "\n",
        "#nl libraries\n",
        "import string \n",
        "import nltk #natural language tool kit\n",
        "from nltk.sentiment.vader import SentimentIntensityAnalyzer\n",
        "nltk.download(\"vader_lexicon\")\n"
      ],
      "execution_count": 70,
      "outputs": [
        {
          "output_type": "stream",
          "text": [
            "[nltk_data] Downloading package vader_lexicon to /root/nltk_data...\n",
            "[nltk_data]   Package vader_lexicon is already up-to-date!\n"
          ],
          "name": "stdout"
        },
        {
          "output_type": "execute_result",
          "data": {
            "text/plain": [
              "True"
            ]
          },
          "metadata": {
            "tags": []
          },
          "execution_count": 70
        }
      ]
    },
    {
      "cell_type": "code",
      "metadata": {
        "id": "0x79twKRZx1l",
        "colab": {
          "base_uri": "https://localhost:8080/",
          "height": 201
        },
        "outputId": "55c35d61-0ca3-4afb-cf05-2f6365e20c45"
      },
      "source": [
        "StopWatch.start(\"get_data\")\n",
        "\n",
        "zfile=zipfile.ZipFile('/content/customer-support-on-twitter.zip')\n",
        "data=pd.read_csv(zfile.open('twcs/twcs.csv')) \n",
        "StopWatch.stop(\"get_data\")\n",
        "\n",
        "data.head()"
      ],
      "execution_count": 71,
      "outputs": [
        {
          "output_type": "execute_result",
          "data": {
            "text/html": [
              "<div>\n",
              "<style scoped>\n",
              "    .dataframe tbody tr th:only-of-type {\n",
              "        vertical-align: middle;\n",
              "    }\n",
              "\n",
              "    .dataframe tbody tr th {\n",
              "        vertical-align: top;\n",
              "    }\n",
              "\n",
              "    .dataframe thead th {\n",
              "        text-align: right;\n",
              "    }\n",
              "</style>\n",
              "<table border=\"1\" class=\"dataframe\">\n",
              "  <thead>\n",
              "    <tr style=\"text-align: right;\">\n",
              "      <th></th>\n",
              "      <th>tweet_id</th>\n",
              "      <th>author_id</th>\n",
              "      <th>inbound</th>\n",
              "      <th>created_at</th>\n",
              "      <th>text</th>\n",
              "      <th>response_tweet_id</th>\n",
              "      <th>in_response_to_tweet_id</th>\n",
              "    </tr>\n",
              "  </thead>\n",
              "  <tbody>\n",
              "    <tr>\n",
              "      <th>0</th>\n",
              "      <td>1</td>\n",
              "      <td>sprintcare</td>\n",
              "      <td>False</td>\n",
              "      <td>Tue Oct 31 22:10:47 +0000 2017</td>\n",
              "      <td>@115712 I understand. I would like to assist y...</td>\n",
              "      <td>2</td>\n",
              "      <td>3.0</td>\n",
              "    </tr>\n",
              "    <tr>\n",
              "      <th>1</th>\n",
              "      <td>2</td>\n",
              "      <td>115712</td>\n",
              "      <td>True</td>\n",
              "      <td>Tue Oct 31 22:11:45 +0000 2017</td>\n",
              "      <td>@sprintcare and how do you propose we do that</td>\n",
              "      <td>NaN</td>\n",
              "      <td>1.0</td>\n",
              "    </tr>\n",
              "    <tr>\n",
              "      <th>2</th>\n",
              "      <td>3</td>\n",
              "      <td>115712</td>\n",
              "      <td>True</td>\n",
              "      <td>Tue Oct 31 22:08:27 +0000 2017</td>\n",
              "      <td>@sprintcare I have sent several private messag...</td>\n",
              "      <td>1</td>\n",
              "      <td>4.0</td>\n",
              "    </tr>\n",
              "    <tr>\n",
              "      <th>3</th>\n",
              "      <td>4</td>\n",
              "      <td>sprintcare</td>\n",
              "      <td>False</td>\n",
              "      <td>Tue Oct 31 21:54:49 +0000 2017</td>\n",
              "      <td>@115712 Please send us a Private Message so th...</td>\n",
              "      <td>3</td>\n",
              "      <td>5.0</td>\n",
              "    </tr>\n",
              "    <tr>\n",
              "      <th>4</th>\n",
              "      <td>5</td>\n",
              "      <td>115712</td>\n",
              "      <td>True</td>\n",
              "      <td>Tue Oct 31 21:49:35 +0000 2017</td>\n",
              "      <td>@sprintcare I did.</td>\n",
              "      <td>4</td>\n",
              "      <td>6.0</td>\n",
              "    </tr>\n",
              "  </tbody>\n",
              "</table>\n",
              "</div>"
            ],
            "text/plain": [
              "   tweet_id   author_id  ...  response_tweet_id in_response_to_tweet_id\n",
              "0         1  sprintcare  ...                  2                     3.0\n",
              "1         2      115712  ...                NaN                     1.0\n",
              "2         3      115712  ...                  1                     4.0\n",
              "3         4  sprintcare  ...                  3                     5.0\n",
              "4         5      115712  ...                  4                     6.0\n",
              "\n",
              "[5 rows x 7 columns]"
            ]
          },
          "metadata": {
            "tags": []
          },
          "execution_count": 71
        }
      ]
    },
    {
      "cell_type": "code",
      "metadata": {
        "colab": {
          "base_uri": "https://localhost:8080/"
        },
        "id": "n_sSYOsHp8_K",
        "outputId": "a23ed748-1bb9-400b-ad9d-41d56cbaa3ad"
      },
      "source": [
        "data.shape"
      ],
      "execution_count": 72,
      "outputs": [
        {
          "output_type": "execute_result",
          "data": {
            "text/plain": [
              "(2811774, 7)"
            ]
          },
          "metadata": {
            "tags": []
          },
          "execution_count": 72
        }
      ]
    },
    {
      "cell_type": "code",
      "metadata": {
        "id": "3AXhCLBgafqC"
      },
      "source": [
        "StopWatch.start(\"manageability\")\n",
        "\n",
        "df=data.drop(['inbound','created_at'],axis=1)\n",
        "df[\"text\"]=df[\"text\"].astype(str)\n",
        "df.sample(frac=1)\n",
        "df=df.head(20000) #for easier management i imagine its going to take a long time if we dont cut it down\n",
        "\n",
        "StopWatch.stop(\"manageability\")"
      ],
      "execution_count": 73,
      "outputs": []
    },
    {
      "cell_type": "code",
      "metadata": {
        "id": "uh2FB9JAIaXT"
      },
      "source": [
        "StopWatch.start(\"sentiment_score\")\n",
        "\n",
        "sent_analyzer=SentimentIntensityAnalyzer()\n",
        "#note to self if we dont cut down data then this takes about 13 minutes for refernece\n",
        "df[\"sentiment\"]=df[\"text\"].apply(lambda x: sent_analyzer.polarity_scores(x)[\"compound\"])\n",
        "\n",
        "StopWatch.stop(\"sentiment_score\")"
      ],
      "execution_count": 74,
      "outputs": []
    },
    {
      "cell_type": "code",
      "metadata": {
        "id": "qZqyvfpvdu07"
      },
      "source": [
        "# id_group=df.groupby('author_id') \n",
        "# sent_avg_author=id_group.sentiment.mean().sort_values()\n",
        "# sentiment_by_author=pd.DataFrame({'author_id':sent_avg_author.index, 'sentiment':sent_avg_author.values})\n",
        "\n",
        "# fig, axs=plt.subplots(2,1, sharey=False, tight_layout=True, sharex=True)\n",
        "\n",
        "# axs[0].hist(df[\"sentiment\"])\n",
        "# axs[0].set_title(\"Tweet Sentiment Distribution\")\n",
        "# axs[1].hist(sentiment_by_author[\"sentiment\"])\n",
        "# axs[1].set_title(\"Author Sentiment Distribution\")\n",
        "\n",
        "# fig.savefig(\"sentiment_dist.png\")\n",
        "# fig.show()\n",
        "\n",
        "# sentiment_by_author.head() #show the dataframe "
      ],
      "execution_count": 75,
      "outputs": []
    },
    {
      "cell_type": "code",
      "metadata": {
        "id": "AzKfhTnLblWR",
        "colab": {
          "base_uri": "https://localhost:8080/"
        },
        "outputId": "73abaafc-6ee3-4dbc-cca6-12ed1b28197a"
      },
      "source": [
        "StopWatch.start(\"removing_companies\")\n",
        "\n",
        "def companies(df):\n",
        "  idx=[]\n",
        "  for id in range(len(df[\"author_id\"])):\n",
        "      vowels=['a','e','i','o', 'u']\n",
        "      for vowel in vowels:\n",
        "        if vowel in df[\"author_id\"][id]:\n",
        "          idx.append(id)\n",
        "          break \n",
        "  return df.drop(idx)\n",
        "\n",
        "customer_df=companies(df)\n",
        "\n",
        "StopWatch.stop(\"removing_companies\")\n",
        "\n",
        "\n",
        "print(df.shape)\n",
        "print(customer_df.shape)"
      ],
      "execution_count": 76,
      "outputs": [
        {
          "output_type": "stream",
          "text": [
            "(20000, 6)\n",
            "(11159, 6)\n"
          ],
          "name": "stdout"
        }
      ]
    },
    {
      "cell_type": "code",
      "metadata": {
        "id": "tcoNken79x2s",
        "colab": {
          "base_uri": "https://localhost:8080/",
          "height": 297
        },
        "outputId": "34e95e03-83b6-437f-e4a9-33431e40b9f6"
      },
      "source": [
        "\n",
        "customer_group=customer_df.groupby('author_id') \n",
        "sent_avg_customer=customer_group.sentiment.mean().sort_values()\n",
        "sentiment_by_customer=pd.DataFrame({'author_id':sent_avg_customer.index, 'sentiment':sent_avg_customer.values})\n",
        "\n",
        "fig, axs=plt.subplots(2,1, sharey=False, tight_layout=True, sharex=True)\n",
        "\n",
        "axs[0].hist(customer_df[\"sentiment\"])\n",
        "axs[0].set_title(\"Sentiment Distribution of Customer Tweets\")\n",
        "axs[1].hist(sentiment_by_customer[\"sentiment\"])\n",
        "axs[1].set_title(\"Average Sentiment Distribution of Customers\")\n",
        "\n",
        "fig.savefig(\"customer_dist.png\")\n",
        "fig.show()\n",
        "\n"
      ],
      "execution_count": 78,
      "outputs": [
        {
          "output_type": "display_data",
          "data": {
            "image/png": "[encoded data removed]",
            "text/plain": [
              "<Figure size 432x288 with 2 Axes>"
            ]
          },
          "metadata": {
            "tags": [],
            "needs_background": "light"
          }
        }
      ]
    },
    {
      "cell_type": "markdown",
      "metadata": {
        "id": "nftU_pPQbmal"
      },
      "source": [
        "# Cnn model "
      ]
    },
    {
      "cell_type": "code",
      "metadata": {
        "id": "TTgTwctKBo2l"
      },
      "source": [
        "#Cnn libraries \n",
        "import tensorflow as tf\n",
        "from tensorflow.keras.models import Sequential\n",
        "from tensorflow.keras.layers import Dense, Activation, Dropout\n",
        "from keras.layers import Conv1D, MaxPooling1D, Flatten, AveragePooling1D\n",
        "from tensorflow.keras.utils import to_categorical, plot_model"
      ],
      "execution_count": 80,
      "outputs": []
    },
    {
      "cell_type": "markdown",
      "metadata": {
        "id": "0Pky6tg2lucV"
      },
      "source": [
        "# Building the model"
      ]
    },
    {
      "cell_type": "code",
      "metadata": {
        "id": "pqEswiz1OcFF",
        "colab": {
          "base_uri": "https://localhost:8080/"
        },
        "outputId": "9be6c0ba-07f2-4d95-8215-f9a93fa0e8a6"
      },
      "source": [
        "batch_size=128\n",
        "kernel_size=3\n",
        "pool_size=2\n",
        "filters=64\n",
        "dropout=0.2\n",
        "\n",
        "#TODO\n",
        "input_shape=(10,1) #figure this out\n",
        "num_labels=10 #idk what to do\n",
        "\n",
        "StopWatch.start(\"cnn_model_building\")\n",
        "\n",
        "cnn_model=Sequential()\n",
        "\n",
        "cnn_model.add(Conv1D(filters=filters, kernel_size=kernel_size,\n",
        "                activation='relu', input_shape=input_shape,\n",
        "                padding='same'))\n",
        "cnn_model.add(MaxPooling1D(pool_size))\n",
        "\n",
        "cnn_model.add(Conv1D(filters=filters, kernel_size=kernel_size,\n",
        "                activation='relu', input_shape=input_shape,\n",
        "                padding='same'))\n",
        "cnn_model.add(MaxPooling1D(pool_size))\n",
        "\n",
        "cnn_model.add(Conv1D(filters=filters, kernel_size=kernel_size,\n",
        "                activation='relu', input_shape=input_shape,\n",
        "                padding='same'))\n",
        "cnn_model.add(MaxPooling1D(pool_size))\n",
        "\n",
        "cnn_model.add(Conv1D(filters=filters, kernel_size=kernel_size,\n",
        "                activation='relu', input_shape=input_shape,\n",
        "                padding='same'))\n",
        "cnn_model.add(Flatten())\n",
        "cnn_model.add(Dropout(dropout))\n",
        "cnn_model.add(Dense(num_labels))\n",
        "cnn_model.add(Activation('softmax'))\n",
        "cnn_model.summary()\n",
        "plot_model(cnn_model, to_file='cnn_model.png', show_shapes=True)\n",
        "\n",
        "StopWatch.stop(\"cnn_model_building\")"
      ],
      "execution_count": 81,
      "outputs": [
        {
          "output_type": "stream",
          "text": [
            "Model: \"sequential\"\n",
            "_________________________________________________________________\n",
            "Layer (type)                 Output Shape              Param #   \n",
            "=================================================================\n",
            "conv1d (Conv1D)              (None, 10, 64)            256       \n",
            "_________________________________________________________________\n",
            "max_pooling1d (MaxPooling1D) (None, 5, 64)             0         \n",
            "_________________________________________________________________\n",
            "conv1d_1 (Conv1D)            (None, 5, 64)             12352     \n",
            "_________________________________________________________________\n",
            "max_pooling1d_1 (MaxPooling1 (None, 2, 64)             0         \n",
            "_________________________________________________________________\n",
            "conv1d_2 (Conv1D)            (None, 2, 64)             12352     \n",
            "_________________________________________________________________\n",
            "max_pooling1d_2 (MaxPooling1 (None, 1, 64)             0         \n",
            "_________________________________________________________________\n",
            "conv1d_3 (Conv1D)            (None, 1, 64)             12352     \n",
            "_________________________________________________________________\n",
            "flatten (Flatten)            (None, 64)                0         \n",
            "_________________________________________________________________\n",
            "dropout (Dropout)            (None, 64)                0         \n",
            "_________________________________________________________________\n",
            "dense (Dense)                (None, 10)                650       \n",
            "_________________________________________________________________\n",
            "activation (Activation)      (None, 10)                0         \n",
            "=================================================================\n",
            "Total params: 37,962\n",
            "Trainable params: 37,962\n",
            "Non-trainable params: 0\n",
            "_________________________________________________________________\n"
          ],
          "name": "stdout"
        }
      ]
    },
    {
      "cell_type": "markdown",
      "metadata": {
        "id": "WzbJPGLmkJJ8"
      },
      "source": [
        "# Compile "
      ]
    },
    {
      "cell_type": "code",
      "metadata": {
        "id": "w0Eer8ISWXm-"
      },
      "source": [
        "StopWatch.start(\"cnn_compile\")\n",
        "cnn_model.compile(loss='categorical_crossentropy', \n",
        "                  optimizer='adam', metrics=['accuracy'])\n",
        "StopWatch.stop(\"cnn_compile\")"
      ],
      "execution_count": 82,
      "outputs": []
    },
    {
      "cell_type": "markdown",
      "metadata": {
        "id": "AIUDpYw-kNt-"
      },
      "source": [
        "# Model Fit"
      ]
    },
    {
      "cell_type": "code",
      "metadata": {
        "id": "JVAesKyObuNC",
        "colab": {
          "base_uri": "https://localhost:8080/",
          "height": 200
        },
        "outputId": "c3323970-bd8b-4209-c389-209c4c99a6e5"
      },
      "source": [
        "StopWatch.start(\"cnn_train\")\n",
        "cnn_model.fit(train_text, train_sentiment, epochs, batch_size=batch_size)\n",
        "StopWatch.stop(\"cnn_train\")"
      ],
      "execution_count": null,
      "outputs": [
        {
          "output_type": "error",
          "ename": "NameError",
          "evalue": "ignored",
          "traceback": [
            "\u001b[0;31m---------------------------------------------------------------------------\u001b[0m",
            "\u001b[0;31mNameError\u001b[0m                                 Traceback (most recent call last)",
            "\u001b[0;32m<ipython-input-13-a504aa2528d0>\u001b[0m in \u001b[0;36m<module>\u001b[0;34m()\u001b[0m\n\u001b[1;32m      1\u001b[0m \u001b[0mStopWatch\u001b[0m\u001b[0;34m.\u001b[0m\u001b[0mstart\u001b[0m\u001b[0;34m(\u001b[0m\u001b[0;34m\"cnn_train\"\u001b[0m\u001b[0;34m)\u001b[0m\u001b[0;34m\u001b[0m\u001b[0;34m\u001b[0m\u001b[0m\n\u001b[0;32m----> 2\u001b[0;31m \u001b[0mcnn_model\u001b[0m\u001b[0;34m.\u001b[0m\u001b[0mfit\u001b[0m\u001b[0;34m(\u001b[0m\u001b[0mtrain_text\u001b[0m\u001b[0;34m,\u001b[0m \u001b[0mtrain_sentiment\u001b[0m\u001b[0;34m,\u001b[0m \u001b[0mepochs\u001b[0m\u001b[0;34m,\u001b[0m \u001b[0mbatch_size\u001b[0m\u001b[0;34m=\u001b[0m\u001b[0mbatch_size\u001b[0m\u001b[0;34m)\u001b[0m\u001b[0;34m\u001b[0m\u001b[0;34m\u001b[0m\u001b[0m\n\u001b[0m\u001b[1;32m      3\u001b[0m \u001b[0mStopWatch\u001b[0m\u001b[0;34m.\u001b[0m\u001b[0mstop\u001b[0m\u001b[0;34m(\u001b[0m\u001b[0;34m\"cnn_train\"\u001b[0m\u001b[0;34m)\u001b[0m\u001b[0;34m\u001b[0m\u001b[0;34m\u001b[0m\u001b[0m\n",
            "\u001b[0;31mNameError\u001b[0m: name 'train_text' is not defined"
          ]
        }
      ]
    },
    {
      "cell_type": "markdown",
      "metadata": {
        "id": "CeLBVQlelj5p"
      },
      "source": [
        "# Evaluate"
      ]
    },
    {
      "cell_type": "code",
      "metadata": {
        "id": "ZM8T_6RybvWW"
      },
      "source": [
        "StopWatch.start(\"cnn_evaluate\")\n",
        "cnn_loss, cnn_accuracy=cnn_model.evaluate(test_text, test_sentiment, batch_size = batch_size)\n",
        "print(\"CNN Accuracy: %.1f%%\" %(100.0*cnn_accuracy))\n",
        "StopWatch.stop(\"cnn_evaluate\")"
      ],
      "execution_count": null,
      "outputs": []
    },
    {
      "cell_type": "code",
      "metadata": {
        "id": "KednVE4kbv0n"
      },
      "source": [
        ""
      ],
      "execution_count": null,
      "outputs": []
    },
    {
      "cell_type": "markdown",
      "metadata": {
        "id": "Jo13xPh1bqQq"
      },
      "source": [
        "# Rnn model"
      ]
    },
    {
      "cell_type": "code",
      "metadata": {
        "id": "c0SguS04Eo9b"
      },
      "source": [
        "#rnn libraries\n",
        "import tensorflow as tf\n",
        "from tensorflow.keras.models import Sequential\n",
        "from tensorflow.keras.layers import Dense, Activation, SimpleRNN\n",
        "from tensorflow.keras.utils import to_categorical, plot_model"
      ],
      "execution_count": 83,
      "outputs": []
    },
    {
      "cell_type": "markdown",
      "metadata": {
        "id": "2ipT7wcCl0Rx"
      },
      "source": [
        "# Building the model"
      ]
    },
    {
      "cell_type": "code",
      "metadata": {
        "id": "GN5dj4bhW4dx",
        "colab": {
          "base_uri": "https://localhost:8080/"
        },
        "outputId": "f7d9616c-9d33-4e0d-9758-85d0a3366436"
      },
      "source": [
        "batch_size=128\n",
        "units=256\n",
        "dropout=0.2\n",
        "\n",
        "input_shape=(10,1) #figure this out\n",
        "num_labels=10\n",
        "\n",
        "StopWatch.start(\"rnn_model_building\")\n",
        "rnn_model=Sequential()\n",
        "rnn_model.add(SimpleRNN(units=units, dropout=dropout,\n",
        "                         input_shape=input_shape, return_sequences=True))\n",
        "rnn_model.add(SimpleRNN(units=units, dropout=dropout,\n",
        "                         input_shape=input_shape, return_sequences=True))\n",
        "rnn_model.add(SimpleRNN(units=units, dropout=dropout,\n",
        "                         input_shape=input_shape, return_sequences=True))\n",
        "rnn_model.add(Dense(num_labels))\n",
        "rnn_model.add(Activation('softmax'))\n",
        "rnn_model.summary()\n",
        "plot_model(rnn_model, to_file='rnn_model.png', show_shapes=True)\n",
        "StopWatch.stop(\"rnn_model_building\")\n"
      ],
      "execution_count": 84,
      "outputs": [
        {
          "output_type": "stream",
          "text": [
            "Model: \"sequential_1\"\n",
            "_________________________________________________________________\n",
            "Layer (type)                 Output Shape              Param #   \n",
            "=================================================================\n",
            "simple_rnn (SimpleRNN)       (None, 10, 256)           66048     \n",
            "_________________________________________________________________\n",
            "simple_rnn_1 (SimpleRNN)     (None, 10, 256)           131328    \n",
            "_________________________________________________________________\n",
            "simple_rnn_2 (SimpleRNN)     (None, 10, 256)           131328    \n",
            "_________________________________________________________________\n",
            "dense_1 (Dense)              (None, 10, 10)            2570      \n",
            "_________________________________________________________________\n",
            "activation_1 (Activation)    (None, 10, 10)            0         \n",
            "=================================================================\n",
            "Total params: 331,274\n",
            "Trainable params: 331,274\n",
            "Non-trainable params: 0\n",
            "_________________________________________________________________\n"
          ],
          "name": "stdout"
        }
      ]
    },
    {
      "cell_type": "markdown",
      "metadata": {
        "id": "SVEjjr7ql3mN"
      },
      "source": [
        "# Compile"
      ]
    },
    {
      "cell_type": "code",
      "metadata": {
        "id": "_VHXSrqEZJb9"
      },
      "source": [
        "StopWatch.start(\"rnn_compile\")\n",
        "rnn_model.compile(loss='categorical_crossentropy', \n",
        "                  optimizer='sgd', metrics=['accuracy'])\n",
        "StopWatch.stop(\"rnn_compile\")"
      ],
      "execution_count": 85,
      "outputs": []
    },
    {
      "cell_type": "markdown",
      "metadata": {
        "id": "VL1t0aAgl5xG"
      },
      "source": [
        "# Model Fit"
      ]
    },
    {
      "cell_type": "code",
      "metadata": {
        "id": "0D0DM1qYaFqu"
      },
      "source": [
        "StopWatch.start(\"rnn_train\")\n",
        "rnn_model.fit(train_text, train_sentiment, epochs, batch_size=batch_size)\n",
        "StopWatch.stop(\"rnn_train\")"
      ],
      "execution_count": null,
      "outputs": []
    },
    {
      "cell_type": "markdown",
      "metadata": {
        "id": "rEjBLHRFl_40"
      },
      "source": [
        "# Evaluation"
      ]
    },
    {
      "cell_type": "code",
      "metadata": {
        "id": "ZNdzCwhdl_dd"
      },
      "source": [
        "StopWatch.start(\"rnn_evaluate\")\n",
        "rnn_loss, cnn_accuracy=cnn_model.evaluate(test_text, test_sentiment, batch_size = batch_size)\n",
        "print(\"RNN Accuracy: %.1f%%\" %(100.0*rnn_accuracy))\n",
        "StopWatch.stop(\"rnn_evaluate\")"
      ],
      "execution_count": null,
      "outputs": []
    },
    {
      "cell_type": "code",
      "metadata": {
        "id": "1adeF9dfnNal"
      },
      "source": [
        ""
      ],
      "execution_count": null,
      "outputs": []
    }
  ]
}